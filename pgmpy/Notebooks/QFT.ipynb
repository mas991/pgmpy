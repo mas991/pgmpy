{
 "cells": [
  {
   "cell_type": "code",
   "execution_count": 1,
   "id": "a6052236",
   "metadata": {},
   "outputs": [],
   "source": [
    "# Imports (some imports may not be necessary)\n",
    "import numpy as np\n",
    "import math\n",
    "from qiskit import IBMQ, Aer\n",
    "from qiskit.providers.ibmq import least_busy\n",
    "from qiskit import QuantumCircuit, assemble, transpile\n",
    "from qiskit.visualization import plot_histogram\n",
    "import qiskit.quantum_info as qi\n",
    "\n",
    "# Functions to define QFT gate in Qiskit\n",
    "def qft_rotations(circuit, n):\n",
    "    \"\"\"Performs qft on the first n qubits in circuit (without swaps)\"\"\"\n",
    "    if n == 0:\n",
    "        return circuit\n",
    "    n -= 1\n",
    "    circuit.h(n)\n",
    "    for qubit in range(n):\n",
    "        circuit.cp(math.pi/2**(n-qubit), qubit, n)\n",
    "    # At the end of our function, we call the same function again on\n",
    "    # the next qubits (we reduced n by one earlier in the function)\n",
    "    qft_rotations(circuit, n)\n",
    "    \n",
    "def swap_registers(circuit, n):\n",
    "    for qubit in range(n//2):\n",
    "        circuit.swap(qubit, n-qubit-1)\n",
    "    return circuit\n",
    "\n",
    "def qftCircuit(circuit, n):\n",
    "    \"\"\"QFT on the first n qubits in circuit\"\"\"\n",
    "    qft_rotations(circuit, n)\n",
    "    swap_registers(circuit, n)\n",
    "    return circuit"
   ]
  },
  {
   "cell_type": "code",
   "execution_count": 2,
   "id": "18d91de1",
   "metadata": {},
   "outputs": [
    {
     "data": {
      "text/html": [
       "<pre style=\"word-wrap: normal;white-space: pre;background: #fff0;line-height: 1.1;font-family: &quot;Courier New&quot;,Courier,monospace\">     ┌───┐\n",
       "q_0: ┤ H ├\n",
       "     └───┘\n",
       "c: 1/═════\n",
       "          </pre>"
      ],
      "text/plain": [
       "     ┌───┐\n",
       "q_0: ┤ H ├\n",
       "     └───┘\n",
       "c: 1/═════\n",
       "          "
      ]
     },
     "execution_count": 2,
     "metadata": {},
     "output_type": "execute_result"
    }
   ],
   "source": [
    "# 1 qubit QFT\n",
    "n = 1\n",
    "\n",
    "qc1 = QuantumCircuit(n,n)\n",
    "qftCircuit(qc1,n)\n",
    "qc1.draw()"
   ]
  },
  {
   "cell_type": "code",
   "execution_count": 3,
   "id": "bd6f36ed",
   "metadata": {},
   "outputs": [
    {
     "name": "stdout",
     "output_type": "stream",
     "text": [
      "[0.70710678+0.j 0.70710678+0.j]\n"
     ]
    }
   ],
   "source": [
    "state1 = qi.Statevector.from_instruction(qc1)\n",
    "stateVec1 = state1.__array__()\n",
    "print(stateVec1)"
   ]
  },
  {
   "cell_type": "code",
   "execution_count": 4,
   "id": "7499e1d6",
   "metadata": {},
   "outputs": [
    {
     "data": {
      "application/vnd.jupyter.widget-view+json": {
       "model_id": "7dfa9bc26c064bf58e109be8f9c09dff",
       "version_major": 2,
       "version_minor": 0
      },
      "text/plain": [
       "  0%|          | 0/1 [00:00<?, ?it/s]"
      ]
     },
     "metadata": {},
     "output_type": "display_data"
    },
    {
     "data": {
      "application/vnd.jupyter.widget-view+json": {
       "model_id": "357e66019f3a42139d520e30a4d0fca4",
       "version_major": 2,
       "version_minor": 0
      },
      "text/plain": [
       "  0%|          | 0/1 [00:00<?, ?it/s]"
      ]
     },
     "metadata": {},
     "output_type": "display_data"
    },
    {
     "name": "stdout",
     "output_type": "stream",
     "text": [
      "+---------+----------------+\n",
      "| q0m1    |      phi(q0m1) |\n",
      "+=========+================+\n",
      "| q0m1(0) | 0.7071+0.0000j |\n",
      "+---------+----------------+\n",
      "| q0m1(1) | 0.7071+0.0000j |\n",
      "+---------+----------------+\n"
     ]
    },
    {
     "name": "stderr",
     "output_type": "stream",
     "text": [
      "C:\\Users\\masch\\Quantum Computing\\QComp\\pgmpy\\pgmpy\\extern\\tabulate.py:282: ComplexWarning: Casting complex values to real discards the imaginary part\n",
      "  n = conv(string)\n"
     ]
    }
   ],
   "source": [
    "# Comment out these lines\n",
    "import sys\n",
    "sys.path.insert(0, 'C:\\\\Users\\\\masch\\\\Quantum Computing\\\\QComp\\\\pgmpy')\n",
    "\n",
    "# Imports\n",
    "import cmath\n",
    "from pgmpy.models import BayesianNetwork\n",
    "from pgmpy.factors.discrete.CPD import TabularCPD\n",
    "from pgmpy.inference import VariableElimination\n",
    "from pgmpy.inference import BeliefPropagation\n",
    "\n",
    "#QFT gate modeled using pgmpy\n",
    "\n",
    "N = 2\n",
    "omega_N = cmath.exp(2*math.pi*1j/N)\n",
    "qft1 = BayesianNetwork([('q0m0','q0m1')])\n",
    "cpd_q0m0 = TabularCPD(variable = 'q0m0', variable_card = 2, values = [[1], [0]])\n",
    "cpd_q0m1 = TabularCPD(variable='q0m1', variable_card = 2, values = [[1/np.sqrt(N),1/np.sqrt(N)], [1/np.sqrt(N),omega_N/np.sqrt(N)]], evidence = ['q0m0'], evidence_card = [2])\n",
    "\n",
    "\"\"\"\n",
    "U_QFT =\n",
    "[1/sqrt(2)   1/sqrt(2)]\n",
    "[1/sqrt(2)   -1/sqrt(2)]\n",
    "\"\"\"\n",
    "qft1.add_cpds(cpd_q0m0,cpd_q0m1)\n",
    "qftInfer1 = VariableElimination(qft1)\n",
    "q1 = qftInfer1.query(['q0m1'])\n",
    "print(q1)"
   ]
  },
  {
   "cell_type": "code",
   "execution_count": 5,
   "id": "9bdbbc0a",
   "metadata": {},
   "outputs": [
    {
     "name": "stdout",
     "output_type": "stream",
     "text": [
      "['q0m1']\n",
      "[0.70710678+0.j 0.70710678+0.j]\n"
     ]
    }
   ],
   "source": [
    "# Obtain the ordering of the variables in the display above, as well as their values\n",
    "q1Vars = q1.variables\n",
    "q1Values = q1.values\n",
    "\n",
    "print(q1Vars)\n",
    "print(q1Values)"
   ]
  },
  {
   "cell_type": "code",
   "execution_count": 6,
   "id": "c05bd027",
   "metadata": {},
   "outputs": [
    {
     "data": {
      "text/html": [
       "<pre style=\"word-wrap: normal;white-space: pre;background: #fff0;line-height: 1.1;font-family: &quot;Courier New&quot;,Courier,monospace\">                   ┌───┐   \n",
       "q_0: ──────■───────┤ H ├─X─\n",
       "     ┌───┐ │P(π/2) └───┘ │ \n",
       "q_1: ┤ H ├─■─────────────X─\n",
       "     └───┘                 \n",
       "c: 2/══════════════════════\n",
       "                           </pre>"
      ],
      "text/plain": [
       "                   ┌───┐   \n",
       "q_0: ──────■───────┤ H ├─X─\n",
       "     ┌───┐ │P(π/2) └───┘ │ \n",
       "q_1: ┤ H ├─■─────────────X─\n",
       "     └───┘                 \n",
       "c: 2/══════════════════════\n",
       "                           "
      ]
     },
     "execution_count": 6,
     "metadata": {},
     "output_type": "execute_result"
    }
   ],
   "source": [
    "# 2 qubit QFT\n",
    "\n",
    "n = 2\n",
    "\n",
    "qc2 = QuantumCircuit(n,n)\n",
    "qftCircuit(qc2,n)\n",
    "qc2.draw()"
   ]
  },
  {
   "cell_type": "code",
   "execution_count": 7,
   "id": "70dfc018",
   "metadata": {},
   "outputs": [
    {
     "name": "stdout",
     "output_type": "stream",
     "text": [
      "[0.5+0.j 0.5+0.j 0.5+0.j 0.5+0.j]\n"
     ]
    }
   ],
   "source": [
    "state2 = qi.Statevector.from_instruction(qc2)\n",
    "stateVec2 = state2.__array__()\n",
    "print(stateVec2)"
   ]
  },
  {
   "cell_type": "code",
   "execution_count": 8,
   "id": "497937f5",
   "metadata": {},
   "outputs": [
    {
     "data": {
      "application/vnd.jupyter.widget-view+json": {
       "model_id": "517877472d23499d8ed80f89ff0cc8ef",
       "version_major": 2,
       "version_minor": 0
      },
      "text/plain": [
       "  0%|          | 0/2 [00:00<?, ?it/s]"
      ]
     },
     "metadata": {},
     "output_type": "display_data"
    },
    {
     "data": {
      "application/vnd.jupyter.widget-view+json": {
       "model_id": "ffe9229eb549416eacd55667151eaa6a",
       "version_major": 2,
       "version_minor": 0
      },
      "text/plain": [
       "  0%|          | 0/2 [00:00<?, ?it/s]"
      ]
     },
     "metadata": {},
     "output_type": "display_data"
    },
    {
     "name": "stdout",
     "output_type": "stream",
     "text": [
      "+---------+---------+------------------+\n",
      "| q0m1    | q1m1    |   phi(q0m1,q1m1) |\n",
      "+=========+=========+==================+\n",
      "| q0m1(0) | q1m1(0) |   0.5000+0.0000j |\n",
      "+---------+---------+------------------+\n",
      "| q0m1(0) | q1m1(1) |   0.5000+0.0000j |\n",
      "+---------+---------+------------------+\n",
      "| q0m1(1) | q1m1(0) |   0.5000+0.0000j |\n",
      "+---------+---------+------------------+\n",
      "| q0m1(1) | q1m1(1) |   0.5000+0.0000j |\n",
      "+---------+---------+------------------+\n"
     ]
    },
    {
     "data": {
      "text/plain": [
       "'\\nU_QFT(00) = 1/2 00 + 1/2 01 + 1/2 10 + 1/2 11 = (1/sqrt(2)* (0 + 1)) * (1/sqrt(2)* (0 + 1))\\nU_QFT(01) = 1/2 00 + i/2 01 - 1/2 10 - i/2 11 = (1/sqrt(2)* (0 - 1)) * (1/sqrt(2)* (0 + i*1))\\n'"
      ]
     },
     "execution_count": 8,
     "metadata": {},
     "output_type": "execute_result"
    }
   ],
   "source": [
    "#QFT with 2 qubits\n",
    "\n",
    "N = 4\n",
    "omega_N = cmath.exp(2*math.pi*1j/N)\n",
    "qft2 = BayesianNetwork([('q0m0','q0m1'), ('q1m0','q0m1'), ('q0m0','q1m1'), ('q1m0','q1m1')])\n",
    "cpd_q0m0 = TabularCPD(variable = 'q0m0', variable_card = 2, values = [[1], [0]])\n",
    "cpd_q1m0 = TabularCPD(variable = 'q1m0', variable_card = 2, values = [[1], [0]])\n",
    "cpd_q0m1 = TabularCPD(variable='q0m1', variable_card = 2, values = [[1/np.sqrt(2),1/np.sqrt(2),1/np.sqrt(2),1/np.sqrt(2)], [1/np.sqrt(2),(omega_N**2)/np.sqrt(2),(omega_N**4)/np.sqrt(2),(omega_N**6)/np.sqrt(2)]], evidence = ['q0m0','q1m0'], evidence_card = [2,2])\n",
    "cpd_q1m1 = TabularCPD(variable='q1m1', variable_card = 2, values = [[1/np.sqrt(2),1/np.sqrt(2),1/np.sqrt(2),1/np.sqrt(2)], [1/np.sqrt(2),(omega_N**1)/np.sqrt(2),(omega_N**2)/np.sqrt(2),(omega_N**3)/np.sqrt(2)]], evidence = ['q0m0','q1m0'], evidence_card = [2,2])\n",
    "\n",
    "\"\"\"\n",
    "U_QFT =\n",
    "[1/2   1/2   1/2   1/2]\n",
    "[1/2   i/2   -1/2   -i/2]\n",
    "[1/2   -1/2   1/2   -1/2]\n",
    "[1/2   -i/2   -1/2   i/2]\n",
    "\"\"\"\n",
    "\n",
    "\n",
    "qft2.add_cpds(cpd_q0m0,cpd_q0m1,cpd_q1m0,cpd_q1m1)\n",
    "qftInfer2 = VariableElimination(qft2)\n",
    "q2 = qftInfer2.query(['q0m1','q1m1'])\n",
    "print(q2)\n",
    "\n",
    "\"\"\"\n",
    "U_QFT(00) = 1/2 00 + 1/2 01 + 1/2 10 + 1/2 11 = (1/sqrt(2)* (0 + 1)) * (1/sqrt(2)* (0 + 1))\n",
    "U_QFT(01) = 1/2 00 + i/2 01 - 1/2 10 - i/2 11 = (1/sqrt(2)* (0 - 1)) * (1/sqrt(2)* (0 + i*1))\n",
    "\"\"\""
   ]
  },
  {
   "cell_type": "code",
   "execution_count": 9,
   "id": "ec19b67f",
   "metadata": {},
   "outputs": [
    {
     "name": "stdout",
     "output_type": "stream",
     "text": [
      "['q0m1', 'q1m1']\n",
      "[[0.5+0.j 0.5+0.j]\n",
      " [0.5+0.j 0.5+0.j]]\n"
     ]
    }
   ],
   "source": [
    "# Obtain the ordering of the variables in the display above, as well as their values\n",
    "q2Vars = q2.variables\n",
    "q2Values = q2.values\n",
    "\n",
    "print(q2Vars)\n",
    "print(q2Values)"
   ]
  },
  {
   "cell_type": "code",
   "execution_count": 10,
   "id": "afa24046",
   "metadata": {},
   "outputs": [
    {
     "data": {
      "text/html": [
       "<pre style=\"word-wrap: normal;white-space: pre;background: #fff0;line-height: 1.1;font-family: &quot;Courier New&quot;,Courier,monospace\">                                          ┌───┐   \n",
       "q_0: ──────■──────────────────────■───────┤ H ├─X─\n",
       "           │                ┌───┐ │P(π/2) └───┘ │ \n",
       "q_1: ──────┼────────■───────┤ H ├─■─────────────┼─\n",
       "     ┌───┐ │P(π/4)  │P(π/2) └───┘               │ \n",
       "q_2: ┤ H ├─■────────■───────────────────────────X─\n",
       "     └───┘                                        \n",
       "c: 3/═════════════════════════════════════════════\n",
       "                                                  </pre>"
      ],
      "text/plain": [
       "                                          ┌───┐   \n",
       "q_0: ──────■──────────────────────■───────┤ H ├─X─\n",
       "           │                ┌───┐ │P(π/2) └───┘ │ \n",
       "q_1: ──────┼────────■───────┤ H ├─■─────────────┼─\n",
       "     ┌───┐ │P(π/4)  │P(π/2) └───┘               │ \n",
       "q_2: ┤ H ├─■────────■───────────────────────────X─\n",
       "     └───┘                                        \n",
       "c: 3/═════════════════════════════════════════════\n",
       "                                                  "
      ]
     },
     "execution_count": 10,
     "metadata": {},
     "output_type": "execute_result"
    }
   ],
   "source": [
    "# 3 qubit QFT\n",
    "\n",
    "n = 3\n",
    "\n",
    "qc3 = QuantumCircuit(n,n)\n",
    "qftCircuit(qc3,n)\n",
    "qc3.draw()"
   ]
  },
  {
   "cell_type": "code",
   "execution_count": 11,
   "id": "4c40fb1c",
   "metadata": {},
   "outputs": [
    {
     "name": "stdout",
     "output_type": "stream",
     "text": [
      "[0.35355339+0.j 0.35355339+0.j 0.35355339+0.j 0.35355339+0.j\n",
      " 0.35355339+0.j 0.35355339+0.j 0.35355339+0.j 0.35355339+0.j]\n"
     ]
    }
   ],
   "source": [
    "state3 = qi.Statevector.from_instruction(qc3)\n",
    "stateVec3 = state3.__array__()\n",
    "print(stateVec3)"
   ]
  },
  {
   "cell_type": "code",
   "execution_count": 12,
   "id": "43633744",
   "metadata": {},
   "outputs": [
    {
     "data": {
      "application/vnd.jupyter.widget-view+json": {
       "model_id": "7acdfb50a75e450a892614f54c55a1de",
       "version_major": 2,
       "version_minor": 0
      },
      "text/plain": [
       "  0%|          | 0/3 [00:00<?, ?it/s]"
      ]
     },
     "metadata": {},
     "output_type": "display_data"
    },
    {
     "data": {
      "application/vnd.jupyter.widget-view+json": {
       "model_id": "4f3229eee2ff411980202c0bfcbd962d",
       "version_major": 2,
       "version_minor": 0
      },
      "text/plain": [
       "  0%|          | 0/3 [00:00<?, ?it/s]"
      ]
     },
     "metadata": {},
     "output_type": "display_data"
    },
    {
     "name": "stdout",
     "output_type": "stream",
     "text": [
      "+---------+---------+---------+-----------------------+\n",
      "| q0m1    | q2m1    | q1m1    |   phi(q0m1,q2m1,q1m1) |\n",
      "+=========+=========+=========+=======================+\n",
      "| q0m1(0) | q2m1(0) | q1m1(0) |        0.3536+0.0000j |\n",
      "+---------+---------+---------+-----------------------+\n",
      "| q0m1(0) | q2m1(0) | q1m1(1) |        0.3536+0.0000j |\n",
      "+---------+---------+---------+-----------------------+\n",
      "| q0m1(0) | q2m1(1) | q1m1(0) |        0.3536+0.0000j |\n",
      "+---------+---------+---------+-----------------------+\n",
      "| q0m1(0) | q2m1(1) | q1m1(1) |        0.3536+0.0000j |\n",
      "+---------+---------+---------+-----------------------+\n",
      "| q0m1(1) | q2m1(0) | q1m1(0) |        0.3536+0.0000j |\n",
      "+---------+---------+---------+-----------------------+\n",
      "| q0m1(1) | q2m1(0) | q1m1(1) |        0.3536+0.0000j |\n",
      "+---------+---------+---------+-----------------------+\n",
      "| q0m1(1) | q2m1(1) | q1m1(0) |        0.3536+0.0000j |\n",
      "+---------+---------+---------+-----------------------+\n",
      "| q0m1(1) | q2m1(1) | q1m1(1) |        0.3536+0.0000j |\n",
      "+---------+---------+---------+-----------------------+\n"
     ]
    }
   ],
   "source": [
    "#QFT with 3 qubits\n",
    "\n",
    "N = 8\n",
    "A = 1/(np.sqrt(2))\n",
    "omega_N = cmath.exp(2*math.pi*1j/N)\n",
    "qft3 = BayesianNetwork([('q0m0','q0m1'), ('q0m0','q1m1'), ('q0m0','q2m1'), ('q1m0','q0m1'), ('q1m0','q1m1'), ('q1m0','q2m1'), ('q2m0','q0m1'), ('q2m0','q1m1'), ('q2m0','q2m1')])\n",
    "cpd_q0m0 = TabularCPD(variable = 'q0m0', variable_card = 2, values = [[1], [0]])\n",
    "cpd_q1m0 = TabularCPD(variable = 'q1m0', variable_card = 2, values = [[1], [0]])\n",
    "cpd_q2m0 = TabularCPD(variable = 'q2m0', variable_card = 2, values = [[1], [0]])\n",
    "cpd_q0m1 = TabularCPD(variable='q0m1', variable_card = 2, values = [[A,A,A,A,A,A,A,A], [A,A*(omega_N**4),A*(omega_N**8),A*(omega_N**12),A*(omega_N**16),A*(omega_N**20),A*(omega_N**24),A*(omega_N**28)]], evidence = ['q0m0','q1m0','q2m0'], evidence_card = [2,2,2])\n",
    "cpd_q1m1 = TabularCPD(variable='q1m1', variable_card = 2, values = [[A,A,A,A,A,A,A,A], [A,A*(omega_N**2),A*(omega_N**4),A*(omega_N**6),A*(omega_N**8),A*(omega_N**10),A*(omega_N**12),A*(omega_N**14)]], evidence = ['q0m0','q1m0','q2m0'], evidence_card = [2,2,2])\n",
    "cpd_q2m1 = TabularCPD(variable='q2m1', variable_card = 2, values = [[A,A,A,A,A,A,A,A], [A,A*(omega_N**1),A*(omega_N**2),A*(omega_N**3),A*(omega_N**4),A*(omega_N**5),A*(omega_N**6),A*(omega_N**7)]], evidence = ['q0m0','q1m0','q2m0'], evidence_card = [2,2,2])\n",
    "\n",
    "\"\"\"\n",
    "Let w = e^(i*pi/3)\n",
    "U_QFT =\n",
    "1/(2*sqrt(2))*\n",
    "[1 1   1    1    1    1    1    1   ] \n",
    "[1 w   w^2  w^3  w^4  w^5  w^6  w^7 ]\n",
    "[1 w^2 w^4  w^6  w^8  w^10 w^12 w^14]\n",
    "[1 w^3 w^6  w^9  w^12 w^15 w^18 w^21]\n",
    "[1 w^4 w^8  w^12 w^16 w^20 w^24 w^28]\n",
    "[1 w^5 w^10 w^15 w^20 w^25 w^30 w^35]\n",
    "[1 w^6 w^12 w^18 w^24 w^30 w^36 w^42]\n",
    "[1 w^7 w^14 w^21 w^28 w^35 w^42 w^49]\n",
    "\"\"\"\n",
    "\n",
    "qft3.add_cpds(cpd_q0m0,cpd_q0m1,cpd_q1m0,cpd_q1m1,cpd_q2m0,cpd_q2m1)\n",
    "qftInfer3 = VariableElimination(qft3)\n",
    "q3 = qftInfer3.query(['q0m1','q1m1','q2m1'])\n",
    "print(q3)"
   ]
  },
  {
   "cell_type": "code",
   "execution_count": 13,
   "id": "243d3b86",
   "metadata": {},
   "outputs": [
    {
     "name": "stdout",
     "output_type": "stream",
     "text": [
      "['q0m1', 'q2m1', 'q1m1']\n",
      "[[[0.35355339+0.j 0.35355339+0.j]\n",
      "  [0.35355339+0.j 0.35355339+0.j]]\n",
      "\n",
      " [[0.35355339+0.j 0.35355339+0.j]\n",
      "  [0.35355339+0.j 0.35355339+0.j]]]\n"
     ]
    }
   ],
   "source": [
    "# Obtain the ordering of the variables in the display above, as well as their values\n",
    "q3Vars = q3.variables\n",
    "q3Values = q3.values\n",
    "\n",
    "print(q3Vars)\n",
    "print(q3Values)"
   ]
  },
  {
   "cell_type": "code",
   "execution_count": 14,
   "id": "d2f857a0",
   "metadata": {},
   "outputs": [
    {
     "name": "stdout",
     "output_type": "stream",
     "text": [
      "1 qubit qft\n",
      "{'0': (0.7071+0j), '1': (0.7071+0j)}\n"
     ]
    }
   ],
   "source": [
    "def bitListBack(n):\n",
    "    N = 2**n\n",
    "    numList = []\n",
    "    numFormat = \"0\" + str(n) + \"b\"\n",
    "    for i in range(N):\n",
    "        numList.append((str(format(i,numFormat))[::-1]))\n",
    "    return numList\n",
    "\n",
    "def QiskitDict(stateVec,n):\n",
    "    qbits = bitListBack(n)\n",
    "    QbitDict = {}\n",
    "    for i in range(2**n):\n",
    "        QbitDict[qbits[i]]=np.round(stateVec[i],4)\n",
    "    return QbitDict\n",
    "\n",
    "print(\"1 qubit qft\")\n",
    "print(QiskitDict(stateVec1,1))"
   ]
  },
  {
   "cell_type": "code",
   "execution_count": 15,
   "id": "2d426b56",
   "metadata": {},
   "outputs": [
    {
     "name": "stdout",
     "output_type": "stream",
     "text": [
      "2 qubit qft\n",
      "{'00': (0.5+0j), '10': (0.5+0j), '01': (0.5+0j), '11': (0.5+0j)}\n"
     ]
    }
   ],
   "source": [
    "print(\"2 qubit qft\")\n",
    "print(QiskitDict(stateVec2,2))"
   ]
  },
  {
   "cell_type": "code",
   "execution_count": 16,
   "id": "be629e99",
   "metadata": {},
   "outputs": [
    {
     "name": "stdout",
     "output_type": "stream",
     "text": [
      "3 qubit qft\n",
      "{'000': (0.3536+0j), '100': (0.3536+0j), '010': (0.3536+0j), '110': (0.3536+0j), '001': (0.3536+0j), '101': (0.3536+0j), '011': (0.3536+0j), '111': (0.3536+0j)}\n"
     ]
    }
   ],
   "source": [
    "print(\"3 qubit qft\")\n",
    "print(QiskitDict(stateVec3,3))"
   ]
  },
  {
   "cell_type": "code",
   "execution_count": 17,
   "id": "0f6d0ebf",
   "metadata": {},
   "outputs": [
    {
     "name": "stdout",
     "output_type": "stream",
     "text": [
      "True\n",
      "{'000': (0.3536+0j), '010': (0.3536+0j), '001': (0.3536+0j), '011': (0.3536+0j), '100': (0.3536+0j), '110': (0.3536+0j), '101': (0.3536+0j), '111': (0.3536+0j)}\n",
      "{'000': (0.3536+0j), '100': (0.3536+0j), '010': (0.3536+0j), '110': (0.3536+0j), '001': (0.3536+0j), '101': (0.3536+0j), '011': (0.3536+0j), '111': (0.3536+0j)}\n"
     ]
    }
   ],
   "source": [
    "# Obtain the ordering of the variables in the display above, as well as their values\n",
    "valArr = q3.variables\n",
    "valuesArr = q3.values\n",
    "\n",
    "def create_var_order(orderArr):\n",
    "    currNum = 0\n",
    "    numArr = []\n",
    "    for order in orderArr:\n",
    "        if len(order) == 4:\n",
    "            currNum = order[1]\n",
    "        numArr.append(currNum)\n",
    "    return numArr\n",
    "\n",
    "def bitList(n):\n",
    "    N = 2**n\n",
    "    numList = []\n",
    "    numFormat = \"0\" + str(n) + \"b\"\n",
    "    for i in range(N):\n",
    "        numList.append((str(format(i,numFormat))))\n",
    "    return numList\n",
    "\n",
    "\n",
    "def columnize(listOfBits):\n",
    "    n = len(listOfBits[0])\n",
    "    holder = []\n",
    "    for i in range(n):\n",
    "        col = []\n",
    "        for bit in listOfBits:\n",
    "            col.append(bit[i])\n",
    "        holder.append(col)\n",
    "    return holder\n",
    "\n",
    "def reform():\n",
    "    varOrderArr = create_var_order(valArr)\n",
    "    listOfBits = bitList(len(varOrderArr))\n",
    "    columns = columnize(listOfBits)\n",
    "    rearrangedColumns = [None]*len(columns)\n",
    "    for index, order in enumerate(varOrderArr):\n",
    "        rearrangedColumns[index] = columns[int(order)]\n",
    "    numOfCols = len(rearrangedColumns)\n",
    "    bitStr = \"\"\n",
    "    finalBitArr = []\n",
    "    for bitIndex in range(len(rearrangedColumns[0])):\n",
    "        for num in range(numOfCols):\n",
    "            bitStr+=str(rearrangedColumns[num][bitIndex])\n",
    "        finalBitArr.append(bitStr)\n",
    "        bitStr = \"\"\n",
    "    return finalBitArr\n",
    "\n",
    "def createHashTable():\n",
    "    resHash = {}\n",
    "    bitOrder=reform()\n",
    "    valuesFlat = valuesArr.flatten()\n",
    "    for index, key in enumerate(bitOrder):\n",
    "        resHash[key] = np.round(valuesFlat[index], 4)\n",
    "    return resHash\n",
    "\n",
    "PgmpyHash = createHashTable()\n",
    "\n",
    "print(PgmpyHash == QiskitDict(stateVec3,3))\n",
    "print(PgmpyHash)\n",
    "print(QiskitDict(stateVec3,3))"
   ]
  },
  {
   "cell_type": "code",
   "execution_count": 18,
   "id": "55a9d882",
   "metadata": {},
   "outputs": [
    {
     "data": {
      "text/plain": [
       "\"\\nTO DO LIST:\\n\\n1. Implement a function that automates the comparison between pgmpy and qiskit\\n2. Organize files to look nice\\n3. Push to Github\\n\\nSOON:\\n4. Implement density matrices into pgmpy - eventually incorporate error events/Soham's work\\n5. Implement a function that generates the CPDs for hadamard, qft, pauli matrix gates, etc... save time\\n\\n\""
      ]
     },
     "execution_count": 18,
     "metadata": {},
     "output_type": "execute_result"
    }
   ],
   "source": [
    "\"\"\"\n",
    "TO DO LIST:\n",
    "\n",
    "1. Implement a function that automates the comparison between pgmpy and qiskit\n",
    "2. Organize files to look nice\n",
    "3. Push to Github\n",
    "\n",
    "SOON:\n",
    "4. Implement density matrices into pgmpy - eventually incorporate error events/Soham's work\n",
    "5. Implement a function that generates the CPDs for hadamard, qft, pauli matrix gates, etc... save time\n",
    "\n",
    "\"\"\""
   ]
  }
 ],
 "metadata": {
  "kernelspec": {
   "display_name": "Python 3",
   "language": "python",
   "name": "python3"
  },
  "language_info": {
   "codemirror_mode": {
    "name": "ipython",
    "version": 3
   },
   "file_extension": ".py",
   "mimetype": "text/x-python",
   "name": "python",
   "nbconvert_exporter": "python",
   "pygments_lexer": "ipython3",
   "version": "3.8.8"
  }
 },
 "nbformat": 4,
 "nbformat_minor": 5
}
