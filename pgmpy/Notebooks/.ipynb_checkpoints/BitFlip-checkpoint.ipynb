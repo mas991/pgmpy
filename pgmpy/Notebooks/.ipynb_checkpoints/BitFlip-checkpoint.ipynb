{
 "cells": [
  {
   "cell_type": "code",
   "execution_count": 1,
   "id": "f0701baf",
   "metadata": {},
   "outputs": [
    {
     "data": {
      "application/vnd.jupyter.widget-view+json": {
       "model_id": "d2be1819fa5642e88f5129dbe1eb94f1",
       "version_major": 2,
       "version_minor": 0
      },
      "text/plain": [
       "  0%|          | 0/2 [00:00<?, ?it/s]"
      ]
     },
     "metadata": {},
     "output_type": "display_data"
    },
    {
     "data": {
      "application/vnd.jupyter.widget-view+json": {
       "model_id": "1dd7362098674669b4b9c66916937013",
       "version_major": 2,
       "version_minor": 0
      },
      "text/plain": [
       "  0%|          | 0/2 [00:00<?, ?it/s]"
      ]
     },
     "metadata": {},
     "output_type": "display_data"
    },
    {
     "name": "stdout",
     "output_type": "stream",
     "text": [
      "+-------+---------+-----------------+\n",
      "| rv    | q0m2    |    phi(rv,q0m2) |\n",
      "+=======+=========+=================+\n",
      "| rv(0) | q0m2(0) |  0.4243+0.0000j |\n",
      "+-------+---------+-----------------+\n",
      "| rv(0) | q0m2(1) |  0.4243+0.0000j |\n",
      "+-------+---------+-----------------+\n",
      "| rv(1) | q0m2(0) |  0.5657+0.0000j |\n",
      "+-------+---------+-----------------+\n",
      "| rv(1) | q0m2(1) | -0.5657+0.0000j |\n",
      "+-------+---------+-----------------+\n"
     ]
    },
    {
     "name": "stderr",
     "output_type": "stream",
     "text": [
      "C:\\Users\\masch\\Quantum Computing\\QComp\\pgmpy\\pgmpy\\extern\\tabulate.py:282: ComplexWarning: Casting complex values to real discards the imaginary part\n",
      "  n = conv(string)\n"
     ]
    }
   ],
   "source": [
    "# Comment out these lines\n",
    "import sys\n",
    "sys.path.insert(0, 'C:\\\\Users\\\\masch\\\\Quantum Computing\\\\QComp\\\\pgmpy')\n",
    "\n",
    "# Imports\n",
    "import cmath\n",
    "import numpy as np\n",
    "from pgmpy.models import BayesianNetwork\n",
    "from pgmpy.factors.discrete.CPD import TabularCPD\n",
    "from pgmpy.inference import VariableElimination\n",
    "from pgmpy.inference import BeliefPropagation\n",
    "\n",
    "p = 0.64\n",
    "\n",
    "bitFlip = BayesianNetwork([('q0m0', 'q0m1'), ('rv', 'q0m1'), ('q0m1', 'q0m2')])\n",
    "cpd_q0m0 = TabularCPD(variable='q0m0', variable_card=2, values=[[1],[0]])\n",
    "cpd_rv = TabularCPD(variable='rv', variable_card=2, values=[[np.sqrt(1-p)],[np.sqrt(p)]])\n",
    "cpd_q0m1 = TabularCPD(variable='q0m1', variable_card=2, values=[[1,0,0,1],[0,1,1,0]], evidence=['q0m0', 'rv'], evidence_card = [2,2])\n",
    "cpd_q0m2 = TabularCPD(variable='q0m2', variable_card=2, values=[[1/np.sqrt(2),1/np.sqrt(2)],[1/np.sqrt(2),-1/np.sqrt(2)]], evidence=['q0m1'], evidence_card=[2])\n",
    "bitFlip.add_cpds(cpd_q0m0, cpd_rv, cpd_q0m1, cpd_q0m2)\n",
    "BF_infer = VariableElimination(bitFlip)\n",
    "bf = BF_infer.query(['rv', 'q0m2'])\n",
    "print(bf)"
   ]
  },
  {
   "cell_type": "code",
   "execution_count": 2,
   "id": "9c795f82",
   "metadata": {},
   "outputs": [],
   "source": [
    "def cpd_2_dm(obj,rvs,var):\n",
    "    numQubits = len(var)\n",
    "    numRVs = len(rvs)\n",
    "    varOrder = obj.variables\n",
    "    numVars = len(varOrder)\n",
    "    qubitOrdering = []\n",
    "    rvsOrdering = []\n",
    "    \n",
    "    for i in range(numQubits):\n",
    "        v = var[i]\n",
    "        j = 0\n",
    "        while(j < numVars and v != varOrder[j]):\n",
    "            j += 1\n",
    "        qubitOrdering.append(2**(numVars - j - 1))\n",
    "        \n",
    "    for i in range(numRVs):\n",
    "        v = rvs[i]\n",
    "        j = 0\n",
    "        while(j < numVars and v != varOrder[j]):\n",
    "            j += 1\n",
    "        rvsOrdering.append(2**(numVars - j - 1))\n",
    "\n",
    "    vals = (obj.values).flatten()\n",
    "    dm = np.zeros((2**numQubits,2**numQubits),dtype=\"complex_\")\n",
    "    numEvents = 2**numRVs\n",
    "    numPermutations = 2**numQubits\n",
    "    \n",
    "    for i in range(numEvents):\n",
    "        val1 = 0\n",
    "        for j in range(numRVs):\n",
    "            val1 += ((i//(2**j))%2)*rvsOrdering[numRVs - j - 1]\n",
    "        arr1 = np.zeros((numPermutations,1),dtype=\"complex_\")\n",
    "        arr2 = np.zeros((1,numPermutations),dtype=\"complex_\")\n",
    "        for j in range(numPermutations):\n",
    "            val2 = val1\n",
    "            for k in range(numQubits):\n",
    "                val2 += ((j//(2**k))%2)*qubitOrdering[numQubits - k - 1]\n",
    "            arr1[j][0] = vals[val2]\n",
    "            arr2[0][j] = np.conj(vals[val2])\n",
    "        dm += np.matmul(arr1,arr2)\n",
    "        \n",
    "    return dm"
   ]
  },
  {
   "cell_type": "code",
   "execution_count": 3,
   "id": "c0f9d310",
   "metadata": {},
   "outputs": [
    {
     "name": "stdout",
     "output_type": "stream",
     "text": [
      "[[ 0.5 +0.j -0.14+0.j]\n",
      " [-0.14+0.j  0.5 +0.j]]\n"
     ]
    }
   ],
   "source": [
    "X = cpd_2_dm(bf,['rv'],['q0m2'])\n",
    "print(X)"
   ]
  },
  {
   "cell_type": "code",
   "execution_count": 4,
   "id": "6eabd1d9",
   "metadata": {},
   "outputs": [
    {
     "data": {
      "application/vnd.jupyter.widget-view+json": {
       "model_id": "fbaf4e3fd3ff40e59c6fed80c51d2e96",
       "version_major": 2,
       "version_minor": 0
      },
      "text/plain": [
       "  0%|          | 0/2 [00:00<?, ?it/s]"
      ]
     },
     "metadata": {},
     "output_type": "display_data"
    },
    {
     "data": {
      "application/vnd.jupyter.widget-view+json": {
       "model_id": "82b54609cf6640a7ac84e0eaeb386fc8",
       "version_major": 2,
       "version_minor": 0
      },
      "text/plain": [
       "  0%|          | 0/2 [00:00<?, ?it/s]"
      ]
     },
     "metadata": {},
     "output_type": "display_data"
    },
    {
     "name": "stdout",
     "output_type": "stream",
     "text": [
      "+-------+---------+---------+---------------------+\n",
      "| rv    | q1m1    | q0m1    |   phi(rv,q1m1,q0m1) |\n",
      "+=======+=========+=========+=====================+\n",
      "| rv(0) | q1m1(0) | q0m1(0) |      0.4243+0.0000j |\n",
      "+-------+---------+---------+---------------------+\n",
      "| rv(0) | q1m1(0) | q0m1(1) |      0.4243+0.0000j |\n",
      "+-------+---------+---------+---------------------+\n",
      "| rv(0) | q1m1(1) | q0m1(0) |      0.0000+0.0000j |\n",
      "+-------+---------+---------+---------------------+\n",
      "| rv(0) | q1m1(1) | q0m1(1) |      0.0000+0.0000j |\n",
      "+-------+---------+---------+---------------------+\n",
      "| rv(1) | q1m1(0) | q0m1(0) |      0.0000+0.0000j |\n",
      "+-------+---------+---------+---------------------+\n",
      "| rv(1) | q1m1(0) | q0m1(1) |      0.0000+0.0000j |\n",
      "+-------+---------+---------+---------------------+\n",
      "| rv(1) | q1m1(1) | q0m1(0) |      0.5657+0.0000j |\n",
      "+-------+---------+---------+---------------------+\n",
      "| rv(1) | q1m1(1) | q0m1(1) |      0.5657+0.0000j |\n",
      "+-------+---------+---------+---------------------+\n"
     ]
    }
   ],
   "source": [
    "p2 = 0.64\n",
    "\n",
    "bitFlip2 = BayesianNetwork([('q0m0', 'q0m1'), ('q1m0', 'q1m1'), ('rv', 'q1m1')])\n",
    "cpd_q0m0 = TabularCPD(variable='q0m0', variable_card=2, values=[[1],[0]])\n",
    "cpd_q1m0 = TabularCPD(variable='q1m0', variable_card=2, values=[[1],[0]])\n",
    "cpd_rv = TabularCPD(variable='rv', variable_card=2, values=[[np.sqrt(1-p)],[np.sqrt(p)]])\n",
    "cpd_q0m1 = TabularCPD(variable='q0m1', variable_card=2, values=[[1/np.sqrt(2),1/np.sqrt(2)],[1/np.sqrt(2),-1/np.sqrt(2)]], evidence=['q0m0'], evidence_card = [2])\n",
    "cpd_q1m1 = TabularCPD(variable='q1m1', variable_card=2, values=[[1,0,0,1],[0,1,1,0]], evidence=['q1m0', 'rv'], evidence_card=[2,2])\n",
    "bitFlip2.add_cpds(cpd_q0m0, cpd_q1m0, cpd_rv, cpd_q0m1, cpd_q1m1)\n",
    "BF2_infer = VariableElimination(bitFlip2)\n",
    "bf2 = BF2_infer.query(['rv', 'q0m1', 'q1m1'])\n",
    "print(bf2)"
   ]
  },
  {
   "cell_type": "code",
   "execution_count": 5,
   "id": "238b2a30",
   "metadata": {},
   "outputs": [
    {
     "name": "stdout",
     "output_type": "stream",
     "text": [
      "[[0.18+0.j 0.18+0.j 0.  +0.j 0.  +0.j]\n",
      " [0.18+0.j 0.18+0.j 0.  +0.j 0.  +0.j]\n",
      " [0.  +0.j 0.  +0.j 0.32+0.j 0.32+0.j]\n",
      " [0.  +0.j 0.  +0.j 0.32+0.j 0.32+0.j]]\n"
     ]
    }
   ],
   "source": [
    "X = cpd_2_dm(bf2,['rv'],['q1m1', 'q0m1']).round(4)\n",
    "print(X)"
   ]
  },
  {
   "cell_type": "code",
   "execution_count": 6,
   "id": "d36b22e0",
   "metadata": {},
   "outputs": [
    {
     "name": "stdout",
     "output_type": "stream",
     "text": [
      "[[0.18+0.j 0.18+0.j 0.  +0.j 0.  +0.j]\n",
      " [0.18+0.j 0.18+0.j 0.  +0.j 0.  +0.j]\n",
      " [0.  +0.j 0.  +0.j 0.32+0.j 0.32+0.j]\n",
      " [0.  +0.j 0.  +0.j 0.32+0.j 0.32+0.j]]\n"
     ]
    }
   ],
   "source": [
    "from qiskit import QuantumCircuit\n",
    "import qiskit.quantum_info as qi\n",
    "\n",
    "circ1 = QuantumCircuit(2)\n",
    "circ1.h(0)\n",
    "\n",
    "circ2 = QuantumCircuit(2)\n",
    "circ2.h(0)\n",
    "circ2.x(1)\n",
    "\n",
    "dm1 = (qi.DensityMatrix.from_instruction(circ1)).__array__()\n",
    "dm2 = (qi.DensityMatrix.from_instruction(circ2)).__array__()\n",
    "\n",
    "Y = ((1-p)*dm1 + p*dm2).round(4)\n",
    "print(Y)"
   ]
  },
  {
   "cell_type": "code",
   "execution_count": 7,
   "id": "66846e41",
   "metadata": {},
   "outputs": [
    {
     "data": {
      "text/plain": [
       "array([[ True,  True,  True,  True],\n",
       "       [ True,  True,  True,  True],\n",
       "       [ True,  True,  True,  True],\n",
       "       [ True,  True,  True,  True]])"
      ]
     },
     "execution_count": 7,
     "metadata": {},
     "output_type": "execute_result"
    }
   ],
   "source": [
    "X == Y"
   ]
  },
  {
   "cell_type": "code",
   "execution_count": null,
   "id": "9f5d834a",
   "metadata": {},
   "outputs": [],
   "source": []
  }
 ],
 "metadata": {
  "kernelspec": {
   "display_name": "Python 3",
   "language": "python",
   "name": "python3"
  },
  "language_info": {
   "codemirror_mode": {
    "name": "ipython",
    "version": 3
   },
   "file_extension": ".py",
   "mimetype": "text/x-python",
   "name": "python",
   "nbconvert_exporter": "python",
   "pygments_lexer": "ipython3",
   "version": "3.8.8"
  }
 },
 "nbformat": 4,
 "nbformat_minor": 5
}
