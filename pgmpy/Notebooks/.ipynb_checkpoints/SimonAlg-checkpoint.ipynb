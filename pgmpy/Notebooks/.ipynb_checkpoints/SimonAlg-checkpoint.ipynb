{
 "cells": [
  {
   "cell_type": "code",
   "execution_count": 1,
   "id": "ac733a9f",
   "metadata": {},
   "outputs": [
    {
     "data": {
      "text/html": [
       "<pre style=\"word-wrap: normal;white-space: pre;background: #fff0;line-height: 1.1;font-family: &quot;Courier New&quot;,Courier,monospace\">      ░                      ░ \n",
       "q_0: ─░───■────■─────────────░─\n",
       "      ░   │    │             ░ \n",
       "q_1: ─░───┼────┼────■────■───░─\n",
       "      ░ ┌─┴─┐  │  ┌─┴─┐  │   ░ \n",
       "q_2: ─░─┤ X ├──┼──┤ X ├──┼───░─\n",
       "      ░ └───┘┌─┴─┐└───┘┌─┴─┐ ░ \n",
       "q_3: ─░──────┤ X ├─────┤ X ├─░─\n",
       "      ░      └───┘     └───┘ ░ </pre>"
      ],
      "text/plain": [
       "      ░                      ░ \n",
       "q_0: ─░───■────■─────────────░─\n",
       "      ░   │    │             ░ \n",
       "q_1: ─░───┼────┼────■────■───░─\n",
       "      ░ ┌─┴─┐  │  ┌─┴─┐  │   ░ \n",
       "q_2: ─░─┤ X ├──┼──┤ X ├──┼───░─\n",
       "      ░ └───┘┌─┴─┐└───┘┌─┴─┐ ░ \n",
       "q_3: ─░──────┤ X ├─────┤ X ├─░─\n",
       "      ░      └───┘     └───┘ ░ "
      ]
     },
     "execution_count": 1,
     "metadata": {},
     "output_type": "execute_result"
    }
   ],
   "source": [
    "import sys\n",
    "sys.path.insert(0, 'C:\\\\Users\\\\masch\\\\Quantum Computing\\\\QComp\\\\pgmpy')\n",
    "\n",
    "# initialization\n",
    "import numpy as np\n",
    "\n",
    "# importing Qiskit\n",
    "from qiskit import IBMQ, Aer\n",
    "from qiskit.providers.ibmq import least_busy\n",
    "from qiskit import QuantumCircuit, assemble, transpile\n",
    "\n",
    "# import basic plot tools\n",
    "from qiskit.visualization import plot_histogram\n",
    "# set the length of the n-bit input string. \n",
    "\n",
    "n = 2\n",
    "m = 2\n",
    "\n",
    "oracle = QuantumCircuit(n+m)\n",
    "oracle.barrier()\n",
    "oracle.cx(0,2)\n",
    "oracle.cx(0,3)\n",
    "oracle.cx(1,2)\n",
    "oracle.cx(1,3)\n",
    "oracle.barrier()\n",
    "oracle.draw()"
   ]
  },
  {
   "cell_type": "code",
   "execution_count": 2,
   "id": "e61d885a",
   "metadata": {},
   "outputs": [
    {
     "name": "stderr",
     "output_type": "stream",
     "text": [
      "<ipython-input-2-8ae0990264e6>:4: DeprecationWarning: The QuantumCircuit.__iadd__() method is being deprecated. Use the compose() (potentially with the inplace=True argument) and tensor() methods which are more flexible w.r.t circuit register compatibility.\n",
      "  simonAlg += oracle\n",
      "C:\\Users\\masch\\anaconda3\\lib\\site-packages\\qiskit\\circuit\\quantumcircuit.py:942: DeprecationWarning: The QuantumCircuit.extend() method is being deprecated. Use the compose() (potentially with the inplace=True argument) and tensor() methods which are more flexible w.r.t circuit register compatibility.\n",
      "  return self.extend(rhs)\n"
     ]
    },
    {
     "data": {
      "text/html": [
       "<pre style=\"word-wrap: normal;white-space: pre;background: #fff0;line-height: 1.1;font-family: &quot;Courier New&quot;,Courier,monospace\">     ┌───┐ ░                      ░ \n",
       "q_0: ┤ H ├─░───■────■─────────────░─\n",
       "     ├───┤ ░   │    │             ░ \n",
       "q_1: ┤ H ├─░───┼────┼────■────■───░─\n",
       "     └───┘ ░ ┌─┴─┐  │  ┌─┴─┐  │   ░ \n",
       "q_2: ──────░─┤ X ├──┼──┤ X ├──┼───░─\n",
       "           ░ └───┘┌─┴─┐└───┘┌─┴─┐ ░ \n",
       "q_3: ──────░──────┤ X ├─────┤ X ├─░─\n",
       "           ░      └───┘     └───┘ ░ \n",
       "c: 4/═══════════════════════════════\n",
       "                                    </pre>"
      ],
      "text/plain": [
       "     ┌───┐ ░                      ░ \n",
       "q_0: ┤ H ├─░───■────■─────────────░─\n",
       "     ├───┤ ░   │    │             ░ \n",
       "q_1: ┤ H ├─░───┼────┼────■────■───░─\n",
       "     └───┘ ░ ┌─┴─┐  │  ┌─┴─┐  │   ░ \n",
       "q_2: ──────░─┤ X ├──┼──┤ X ├──┼───░─\n",
       "           ░ └───┘┌─┴─┐└───┘┌─┴─┐ ░ \n",
       "q_3: ──────░──────┤ X ├─────┤ X ├─░─\n",
       "           ░      └───┘     └───┘ ░ \n",
       "c: 4/═══════════════════════════════\n",
       "                                    "
      ]
     },
     "execution_count": 2,
     "metadata": {},
     "output_type": "execute_result"
    }
   ],
   "source": [
    "simonAlg = QuantumCircuit(n+m,n+m)\n",
    "for qubit in range(n):\n",
    "    simonAlg.h(qubit)\n",
    "simonAlg += oracle\n",
    "simonAlg.draw()"
   ]
  },
  {
   "cell_type": "code",
   "execution_count": 3,
   "id": "a99f6317",
   "metadata": {},
   "outputs": [
    {
     "data": {
      "text/html": [
       "<pre style=\"word-wrap: normal;white-space: pre;background: #fff0;line-height: 1.1;font-family: &quot;Courier New&quot;,Courier,monospace\">     ┌───┐ ░                      ░        ░ \n",
       "q_0: ┤ H ├─░───■────■─────────────░────────░─\n",
       "     ├───┤ ░   │    │             ░        ░ \n",
       "q_1: ┤ H ├─░───┼────┼────■────■───░────────░─\n",
       "     └───┘ ░ ┌─┴─┐  │  ┌─┴─┐  │   ░ ┌─┐    ░ \n",
       "q_2: ──────░─┤ X ├──┼──┤ X ├──┼───░─┤M├────░─\n",
       "           ░ └───┘┌─┴─┐└───┘┌─┴─┐ ░ └╥┘┌─┐ ░ \n",
       "q_3: ──────░──────┤ X ├─────┤ X ├─░──╫─┤M├─░─\n",
       "           ░      └───┘     └───┘ ░  ║ └╥┘ ░ \n",
       "c: 4/════════════════════════════════╩══╩════\n",
       "                                     2  3    </pre>"
      ],
      "text/plain": [
       "     ┌───┐ ░                      ░        ░ \n",
       "q_0: ┤ H ├─░───■────■─────────────░────────░─\n",
       "     ├───┤ ░   │    │             ░        ░ \n",
       "q_1: ┤ H ├─░───┼────┼────■────■───░────────░─\n",
       "     └───┘ ░ ┌─┴─┐  │  ┌─┴─┐  │   ░ ┌─┐    ░ \n",
       "q_2: ──────░─┤ X ├──┼──┤ X ├──┼───░─┤M├────░─\n",
       "           ░ └───┘┌─┴─┐└───┘┌─┴─┐ ░ └╥┘┌─┐ ░ \n",
       "q_3: ──────░──────┤ X ├─────┤ X ├─░──╫─┤M├─░─\n",
       "           ░      └───┘     └───┘ ░  ║ └╥┘ ░ \n",
       "c: 4/════════════════════════════════╩══╩════\n",
       "                                     2  3    "
      ]
     },
     "execution_count": 3,
     "metadata": {},
     "output_type": "execute_result"
    }
   ],
   "source": [
    "for qubit in range(m):\n",
    "    simonAlg.measure(qubit + n, qubit + n)\n",
    "simonAlg.barrier()\n",
    "simonAlg.draw()"
   ]
  },
  {
   "cell_type": "code",
   "execution_count": 4,
   "id": "3cc33ee6",
   "metadata": {},
   "outputs": [
    {
     "data": {
      "text/html": [
       "<pre style=\"word-wrap: normal;white-space: pre;background: #fff0;line-height: 1.1;font-family: &quot;Courier New&quot;,Courier,monospace\">     ┌───┐ ░                      ░        ░ ┌───┐ ░ ┌─┐   \n",
       "q_0: ┤ H ├─░───■────■─────────────░────────░─┤ H ├─░─┤M├───\n",
       "     ├───┤ ░   │    │             ░        ░ ├───┤ ░ └╥┘┌─┐\n",
       "q_1: ┤ H ├─░───┼────┼────■────■───░────────░─┤ H ├─░──╫─┤M├\n",
       "     └───┘ ░ ┌─┴─┐  │  ┌─┴─┐  │   ░ ┌─┐    ░ └───┘ ░  ║ └╥┘\n",
       "q_2: ──────░─┤ X ├──┼──┤ X ├──┼───░─┤M├────░───────░──╫──╫─\n",
       "           ░ └───┘┌─┴─┐└───┘┌─┴─┐ ░ └╥┘┌─┐ ░       ░  ║  ║ \n",
       "q_3: ──────░──────┤ X ├─────┤ X ├─░──╫─┤M├─░───────░──╫──╫─\n",
       "           ░      └───┘     └───┘ ░  ║ └╥┘ ░       ░  ║  ║ \n",
       "c: 4/════════════════════════════════╩══╩═════════════╩══╩═\n",
       "                                     2  3             0  1 </pre>"
      ],
      "text/plain": [
       "     ┌───┐ ░                      ░        ░ ┌───┐ ░ ┌─┐   \n",
       "q_0: ┤ H ├─░───■────■─────────────░────────░─┤ H ├─░─┤M├───\n",
       "     ├───┤ ░   │    │             ░        ░ ├───┤ ░ └╥┘┌─┐\n",
       "q_1: ┤ H ├─░───┼────┼────■────■───░────────░─┤ H ├─░──╫─┤M├\n",
       "     └───┘ ░ ┌─┴─┐  │  ┌─┴─┐  │   ░ ┌─┐    ░ └───┘ ░  ║ └╥┘\n",
       "q_2: ──────░─┤ X ├──┼──┤ X ├──┼───░─┤M├────░───────░──╫──╫─\n",
       "           ░ └───┘┌─┴─┐└───┘┌─┴─┐ ░ └╥┘┌─┐ ░       ░  ║  ║ \n",
       "q_3: ──────░──────┤ X ├─────┤ X ├─░──╫─┤M├─░───────░──╫──╫─\n",
       "           ░      └───┘     └───┘ ░  ║ └╥┘ ░       ░  ║  ║ \n",
       "c: 4/════════════════════════════════╩══╩═════════════╩══╩═\n",
       "                                     2  3             0  1 "
      ]
     },
     "execution_count": 4,
     "metadata": {},
     "output_type": "execute_result"
    }
   ],
   "source": [
    "for qubit in range(n):\n",
    "    simonAlg.h(qubit)\n",
    "simonAlg.barrier()\n",
    "for qubit in range(n):\n",
    "    simonAlg.measure(qubit,qubit)\n",
    "simonAlg.draw()"
   ]
  },
  {
   "cell_type": "code",
   "execution_count": 5,
   "id": "466c32a5",
   "metadata": {},
   "outputs": [
    {
     "data": {
      "image/png": "[encoded data removed]",
      "text/plain": [
       "<Figure size 504x360 with 1 Axes>"
      ]
     },
     "execution_count": 5,
     "metadata": {},
     "output_type": "execute_result"
    }
   ],
   "source": [
    "aer_sim = Aer.get_backend('aer_simulator')\n",
    "transpiled_simon = transpile(simonAlg, aer_sim)\n",
    "shots= 100000\n",
    "results = aer_sim.run(transpiled_simon, shots = shots).result()\n",
    "counts = results.get_counts()\n",
    "plot_histogram(counts)"
   ]
  },
  {
   "cell_type": "code",
   "execution_count": 6,
   "id": "0e394796",
   "metadata": {},
   "outputs": [
    {
     "data": {
      "application/vnd.jupyter.widget-view+json": {
       "model_id": "c8ce3d294bb64a27b48b596350c1d172",
       "version_major": 2,
       "version_minor": 0
      },
      "text/plain": [
       "  0%|          | 0/4 [00:00<?, ?it/s]"
      ]
     },
     "metadata": {},
     "output_type": "display_data"
    },
    {
     "data": {
      "application/vnd.jupyter.widget-view+json": {
       "model_id": "d4f29a0e9fc847f3a6cdda352758fbf4",
       "version_major": 2,
       "version_minor": 0
      },
      "text/plain": [
       "  0%|          | 0/4 [00:00<?, ?it/s]"
      ]
     },
     "metadata": {},
     "output_type": "display_data"
    },
    {
     "name": "stdout",
     "output_type": "stream",
     "text": [
      "+---------+---------+---------+---------+----------------------------+\n",
      "| q1m2    | q0m2    | q2m2    | q3m2    |   phi(q1m2,q0m2,q2m2,q3m2) |\n",
      "+=========+=========+=========+=========+============================+\n",
      "| q1m2(0) | q0m2(0) | q2m2(0) | q3m2(0) |             0.5000+0.0000j |\n",
      "+---------+---------+---------+---------+----------------------------+\n",
      "| q1m2(0) | q0m2(0) | q2m2(0) | q3m2(1) |             0.0000+0.0000j |\n",
      "+---------+---------+---------+---------+----------------------------+\n",
      "| q1m2(0) | q0m2(0) | q2m2(1) | q3m2(0) |             0.0000+0.0000j |\n",
      "+---------+---------+---------+---------+----------------------------+\n",
      "| q1m2(0) | q0m2(0) | q2m2(1) | q3m2(1) |             0.0000+0.0000j |\n",
      "+---------+---------+---------+---------+----------------------------+\n",
      "| q1m2(0) | q0m2(1) | q2m2(0) | q3m2(0) |             0.0000+0.0000j |\n",
      "+---------+---------+---------+---------+----------------------------+\n",
      "| q1m2(0) | q0m2(1) | q2m2(0) | q3m2(1) |             0.0000+0.0000j |\n",
      "+---------+---------+---------+---------+----------------------------+\n",
      "| q1m2(0) | q0m2(1) | q2m2(1) | q3m2(0) |             0.0000+0.0000j |\n",
      "+---------+---------+---------+---------+----------------------------+\n",
      "| q1m2(0) | q0m2(1) | q2m2(1) | q3m2(1) |             0.5000+0.0000j |\n",
      "+---------+---------+---------+---------+----------------------------+\n",
      "| q1m2(1) | q0m2(0) | q2m2(0) | q3m2(0) |             0.0000+0.0000j |\n",
      "+---------+---------+---------+---------+----------------------------+\n",
      "| q1m2(1) | q0m2(0) | q2m2(0) | q3m2(1) |             0.0000+0.0000j |\n",
      "+---------+---------+---------+---------+----------------------------+\n",
      "| q1m2(1) | q0m2(0) | q2m2(1) | q3m2(0) |             0.0000+0.0000j |\n",
      "+---------+---------+---------+---------+----------------------------+\n",
      "| q1m2(1) | q0m2(0) | q2m2(1) | q3m2(1) |             0.5000+0.0000j |\n",
      "+---------+---------+---------+---------+----------------------------+\n",
      "| q1m2(1) | q0m2(1) | q2m2(0) | q3m2(0) |             0.5000+0.0000j |\n",
      "+---------+---------+---------+---------+----------------------------+\n",
      "| q1m2(1) | q0m2(1) | q2m2(0) | q3m2(1) |             0.0000+0.0000j |\n",
      "+---------+---------+---------+---------+----------------------------+\n",
      "| q1m2(1) | q0m2(1) | q2m2(1) | q3m2(0) |             0.0000+0.0000j |\n",
      "+---------+---------+---------+---------+----------------------------+\n",
      "| q1m2(1) | q0m2(1) | q2m2(1) | q3m2(1) |             0.0000+0.0000j |\n",
      "+---------+---------+---------+---------+----------------------------+\n"
     ]
    },
    {
     "name": "stderr",
     "output_type": "stream",
     "text": [
      "C:\\Users\\masch\\Quantum Computing\\QComp\\pgmpy\\pgmpy\\extern\\tabulate.py:282: ComplexWarning: Casting complex values to real discards the imaginary part\n",
      "  n = conv(string)\n"
     ]
    }
   ],
   "source": [
    "#bell states --> variable elimination\n",
    "\n",
    "#sys.path.insert(0, '/Users/arpan/Desktop/Aresty_Quantum/pgmpy/pgmpy')\n",
    "from pgmpy.models import BayesianNetwork\n",
    "from pgmpy.factors.discrete.CPD import TabularCPD\n",
    "import numpy as np\n",
    "from pgmpy.inference import VariableElimination\n",
    "\n",
    "\n",
    "simon = BayesianNetwork([('q0m0', 'q0m1'), ('q0m1', 'q0m2'), ('q1m0', 'q1m1'), ('q1m1', 'q1m2'), ('q2m0', 'q2m1'), ('q2m1', 'q2m2'), ('q3m0', 'q3m1'), ('q3m1', 'q3m2'), ('q0m1', 'q2m2'), ('q0m1', 'q3m2'), ('q1m1', 'q2m2'), ('q1m1', 'q3m2')])\n",
    "\n",
    "cpd_q0m0 = TabularCPD(variable = 'q0m0', variable_card = 2, values = [[0], [1]])\n",
    "cpd_q1m0 = TabularCPD(variable = 'q1m0', variable_card = 2, values = [[0], [1]])\n",
    "cpd_q2m0 = TabularCPD(variable = 'q2m0', variable_card = 2, values = [[0], [1]])\n",
    "cpd_q3m0 = TabularCPD(variable = 'q3m0', variable_card = 2, values = [[0], [1]])\n",
    "cpd_q0m1 = TabularCPD(variable='q0m1', variable_card = 2, values = [[1/np.sqrt(2), 1/np.sqrt(2)], [1/np.sqrt(2), -1/np.sqrt(2)]], evidence = ['q0m0'], evidence_card = [2])\n",
    "cpd_q1m1 = TabularCPD(variable='q1m1', variable_card = 2, values = [[1/np.sqrt(2), 1/np.sqrt(2)], [1/np.sqrt(2), -1/np.sqrt(2)]], evidence = ['q1m0'], evidence_card = [2])\n",
    "cpd_q2m1 = TabularCPD(variable='q2m1', variable_card = 2, values = [[1, 0], [0, 1]], evidence = ['q2m0'], evidence_card = [2])\n",
    "cpd_q3m1 = TabularCPD(variable='q3m1', variable_card = 2, values = [[1, 0], [0, 1]], evidence = ['q3m0'], evidence_card = [2])\n",
    "cpd_q0m2 = TabularCPD(variable='q0m2', variable_card = 2, values = [[1, 0], [0, 1]], evidence = ['q0m1'], evidence_card = [2])\n",
    "cpd_q1m2 = TabularCPD(variable='q1m2', variable_card = 2, values = [[1, 0], [0, 1]], evidence = ['q1m1'], evidence_card = [2])\n",
    "cpd_q2m2 = TabularCPD(variable='q2m2', variable_card = 2, values = [[1,0,0,1,0,1,1,0],[0,1,1,0,1,0,0,1]], evidence = ['q0m1', 'q1m1', 'q2m1'], evidence_card = [2,2,2])\n",
    "cpd_q3m2 = TabularCPD(variable='q3m2', variable_card = 2, values = [[1,0,0,1,0,1,1,0],[0,1,1,0,1,0,0,1]], evidence = ['q0m1', 'q1m1', 'q3m1'], evidence_card = [2,2,2])\n",
    "\n",
    "simon.add_cpds(cpd_q0m0, cpd_q1m0, cpd_q2m0, cpd_q3m0, cpd_q0m1, cpd_q1m1, cpd_q2m1, cpd_q3m1, cpd_q0m2, cpd_q1m2, cpd_q2m2, cpd_q3m2)\n",
    "simonInfer = VariableElimination(simon)\n",
    "\n",
    "q = simonInfer.query(['q0m2', 'q1m2', 'q2m2', 'q3m2'], evidence = {'q0m0': 0, 'q1m0': 0, 'q2m0': 0, 'q3m0': 0})\n",
    "print(q)"
   ]
  },
  {
   "cell_type": "code",
   "execution_count": 7,
   "id": "51a3fcc7",
   "metadata": {},
   "outputs": [
    {
     "data": {
      "application/vnd.jupyter.widget-view+json": {
       "model_id": "fad8dcd28d464733b0fd2c619acdf412",
       "version_major": 2,
       "version_minor": 0
      },
      "text/plain": [
       "  0%|          | 0/8 [00:00<?, ?it/s]"
      ]
     },
     "metadata": {},
     "output_type": "display_data"
    },
    {
     "data": {
      "application/vnd.jupyter.widget-view+json": {
       "model_id": "78fca809a6dd4515aacae793733dd70c",
       "version_major": 2,
       "version_minor": 0
      },
      "text/plain": [
       "  0%|          | 0/8 [00:00<?, ?it/s]"
      ]
     },
     "metadata": {},
     "output_type": "display_data"
    },
    {
     "data": {
      "application/vnd.jupyter.widget-view+json": {
       "model_id": "3b6be684c7d240e7b70a8bf2b1dc4ced",
       "version_major": 2,
       "version_minor": 0
      },
      "text/plain": [
       "  0%|          | 0/8 [00:00<?, ?it/s]"
      ]
     },
     "metadata": {},
     "output_type": "display_data"
    },
    {
     "data": {
      "application/vnd.jupyter.widget-view+json": {
       "model_id": "d574cbede49547d6920c6f2bffa0c8b7",
       "version_major": 2,
       "version_minor": 0
      },
      "text/plain": [
       "  0%|          | 0/8 [00:00<?, ?it/s]"
      ]
     },
     "metadata": {},
     "output_type": "display_data"
    },
    {
     "name": "stdout",
     "output_type": "stream",
     "text": [
      "+---------+---------+---------+---------+----------------------------+\n",
      "| q2m6    | q1m6    | q0m6    | q3m6    |   phi(q2m6,q1m6,q0m6,q3m6) |\n",
      "+=========+=========+=========+=========+============================+\n",
      "| q2m6(0) | q1m6(0) | q0m6(0) | q3m6(0) |             0.7071+0.0000j |\n",
      "+---------+---------+---------+---------+----------------------------+\n",
      "| q2m6(0) | q1m6(0) | q0m6(0) | q3m6(1) |             0.0000+0.0000j |\n",
      "+---------+---------+---------+---------+----------------------------+\n",
      "| q2m6(0) | q1m6(0) | q0m6(1) | q3m6(0) |             0.0000+0.0000j |\n",
      "+---------+---------+---------+---------+----------------------------+\n",
      "| q2m6(0) | q1m6(0) | q0m6(1) | q3m6(1) |             0.0000+0.0000j |\n",
      "+---------+---------+---------+---------+----------------------------+\n",
      "| q2m6(0) | q1m6(1) | q0m6(0) | q3m6(0) |             0.0000+0.0000j |\n",
      "+---------+---------+---------+---------+----------------------------+\n",
      "| q2m6(0) | q1m6(1) | q0m6(0) | q3m6(1) |             0.0000+0.0000j |\n",
      "+---------+---------+---------+---------+----------------------------+\n",
      "| q2m6(0) | q1m6(1) | q0m6(1) | q3m6(0) |             0.7071+0.0000j |\n",
      "+---------+---------+---------+---------+----------------------------+\n",
      "| q2m6(0) | q1m6(1) | q0m6(1) | q3m6(1) |             0.0000+0.0000j |\n",
      "+---------+---------+---------+---------+----------------------------+\n",
      "| q2m6(1) | q1m6(0) | q0m6(0) | q3m6(0) |             0.0000+0.0000j |\n",
      "+---------+---------+---------+---------+----------------------------+\n",
      "| q2m6(1) | q1m6(0) | q0m6(0) | q3m6(1) |             0.0000+0.0000j |\n",
      "+---------+---------+---------+---------+----------------------------+\n",
      "| q2m6(1) | q1m6(0) | q0m6(1) | q3m6(0) |             0.0000+0.0000j |\n",
      "+---------+---------+---------+---------+----------------------------+\n",
      "| q2m6(1) | q1m6(0) | q0m6(1) | q3m6(1) |             0.0000+0.0000j |\n",
      "+---------+---------+---------+---------+----------------------------+\n",
      "| q2m6(1) | q1m6(1) | q0m6(0) | q3m6(0) |             0.0000+0.0000j |\n",
      "+---------+---------+---------+---------+----------------------------+\n",
      "| q2m6(1) | q1m6(1) | q0m6(0) | q3m6(1) |             0.0000+0.0000j |\n",
      "+---------+---------+---------+---------+----------------------------+\n",
      "| q2m6(1) | q1m6(1) | q0m6(1) | q3m6(0) |             0.0000+0.0000j |\n",
      "+---------+---------+---------+---------+----------------------------+\n",
      "| q2m6(1) | q1m6(1) | q0m6(1) | q3m6(1) |             0.0000+0.0000j |\n",
      "+---------+---------+---------+---------+----------------------------+\n",
      "+---------+---------+---------+---------+----------------------------+\n",
      "| q3m6    | q2m6    | q1m6    | q0m6    |   phi(q3m6,q2m6,q1m6,q0m6) |\n",
      "+=========+=========+=========+=========+============================+\n",
      "| q3m6(0) | q2m6(0) | q1m6(0) | q0m6(0) |             0.0000+0.0000j |\n",
      "+---------+---------+---------+---------+----------------------------+\n",
      "| q3m6(0) | q2m6(0) | q1m6(0) | q0m6(1) |             0.0000+0.0000j |\n",
      "+---------+---------+---------+---------+----------------------------+\n",
      "| q3m6(0) | q2m6(0) | q1m6(1) | q0m6(0) |             0.0000+0.0000j |\n",
      "+---------+---------+---------+---------+----------------------------+\n",
      "| q3m6(0) | q2m6(0) | q1m6(1) | q0m6(1) |            -0.0000+0.0000j |\n",
      "+---------+---------+---------+---------+----------------------------+\n",
      "| q3m6(0) | q2m6(1) | q1m6(0) | q0m6(0) |             0.0000+0.0000j |\n",
      "+---------+---------+---------+---------+----------------------------+\n",
      "| q3m6(0) | q2m6(1) | q1m6(0) | q0m6(1) |             0.0000+0.0000j |\n",
      "+---------+---------+---------+---------+----------------------------+\n",
      "| q3m6(0) | q2m6(1) | q1m6(1) | q0m6(0) |             0.0000+0.0000j |\n",
      "+---------+---------+---------+---------+----------------------------+\n",
      "| q3m6(0) | q2m6(1) | q1m6(1) | q0m6(1) |            -0.0000+0.0000j |\n",
      "+---------+---------+---------+---------+----------------------------+\n",
      "| q3m6(1) | q2m6(0) | q1m6(0) | q0m6(0) |             0.0000+0.0000j |\n",
      "+---------+---------+---------+---------+----------------------------+\n",
      "| q3m6(1) | q2m6(0) | q1m6(0) | q0m6(1) |             0.0000+0.0000j |\n",
      "+---------+---------+---------+---------+----------------------------+\n",
      "| q3m6(1) | q2m6(0) | q1m6(1) | q0m6(0) |             0.0000+0.0000j |\n",
      "+---------+---------+---------+---------+----------------------------+\n",
      "| q3m6(1) | q2m6(0) | q1m6(1) | q0m6(1) |            -0.0000+0.0000j |\n",
      "+---------+---------+---------+---------+----------------------------+\n",
      "| q3m6(1) | q2m6(1) | q1m6(0) | q0m6(0) |             0.7071+0.0000j |\n",
      "+---------+---------+---------+---------+----------------------------+\n",
      "| q3m6(1) | q2m6(1) | q1m6(0) | q0m6(1) |             0.0000+0.0000j |\n",
      "+---------+---------+---------+---------+----------------------------+\n",
      "| q3m6(1) | q2m6(1) | q1m6(1) | q0m6(0) |             0.0000+0.0000j |\n",
      "+---------+---------+---------+---------+----------------------------+\n",
      "| q3m6(1) | q2m6(1) | q1m6(1) | q0m6(1) |            -0.7071+0.0000j |\n",
      "+---------+---------+---------+---------+----------------------------+\n"
     ]
    }
   ],
   "source": [
    "simon2 = BayesianNetwork([('q0m3', 'q0m4'), ('q1m3', 'q1m4'), ('q2m3', 'q2m4'), ('q3m3', 'q3m4'), ('q0m4', 'q0m5'), ('q0m4', 'q1m5'), ('q1m4', 'q1m5'), ('q2m4', 'q2m5'), ('q3m4', 'q3m5'), ('q0m5', 'q0m6'), ('q1m5', 'q1m6'), ('q2m5', 'q2m6'), ('q3m5', 'q3m6')])\n",
    "\n",
    "cpd_q0m3 = TabularCPD(variable = 'q0m3', variable_card = 2, values = [[0], [1]])\n",
    "cpd_q1m3 = TabularCPD(variable = 'q1m3', variable_card = 2, values = [[0], [1]])\n",
    "cpd_q2m3 = TabularCPD(variable = 'q2m3', variable_card = 2, values = [[0], [1]])\n",
    "cpd_q3m3 = TabularCPD(variable = 'q3m3', variable_card = 2, values = [[0], [1]])\n",
    "cpd_q0m4 = TabularCPD(variable='q0m4', variable_card = 2, values = [[1/np.sqrt(2), 1/np.sqrt(2)], [1/np.sqrt(2), -1/np.sqrt(2)]], evidence = ['q0m3'], evidence_card = [2])\n",
    "cpd_q1m4 = TabularCPD(variable='q1m4', variable_card = 2, values = [[1, 0], [0, 1]], evidence = ['q1m3'], evidence_card = [2])\n",
    "cpd_q2m4 = TabularCPD(variable='q2m4', variable_card = 2, values = [[1, 0], [0, 1]], evidence = ['q2m3'], evidence_card = [2])\n",
    "cpd_q3m4 = TabularCPD(variable='q3m4', variable_card = 2, values = [[1, 0], [0, 1]], evidence = ['q3m3'], evidence_card = [2])\n",
    "cpd_q0m5 = TabularCPD(variable='q0m5', variable_card = 2, values = [[1, 0], [0, 1]], evidence = ['q0m4'], evidence_card = [2])\n",
    "cpd_q1m5 = TabularCPD(variable='q1m5', variable_card = 2, values = [[1, 0, 0, 1], [0, 1, 1, 0]], evidence = ['q0m4', 'q1m4'], evidence_card = [2,2])\n",
    "cpd_q2m5 = TabularCPD(variable='q2m5', variable_card = 2, values = [[1, 0], [0, 1]], evidence = ['q2m4'], evidence_card = [2])\n",
    "cpd_q3m5 = TabularCPD(variable='q3m5', variable_card = 2, values = [[1, 0], [0, 1]], evidence = ['q3m4'], evidence_card = [2])\n",
    "cpd_q0m6 = TabularCPD(variable='q0m6', variable_card = 2, values = [[1/np.sqrt(2), 1/np.sqrt(2)], [1/np.sqrt(2), -1/np.sqrt(2)]], evidence = ['q0m5'], evidence_card = [2])\n",
    "cpd_q1m6 = TabularCPD(variable='q1m6', variable_card = 2, values = [[1/np.sqrt(2), 1/np.sqrt(2)], [1/np.sqrt(2), -1/np.sqrt(2)]], evidence = ['q1m5'], evidence_card = [2])\n",
    "cpd_q2m6 = TabularCPD(variable='q2m6', variable_card = 2, values = [[1, 0], [0, 1]], evidence = ['q2m5'], evidence_card = [2])\n",
    "cpd_q3m6 = TabularCPD(variable='q3m6', variable_card = 2, values = [[1, 0], [0, 1]], evidence = ['q3m5'], evidence_card = [2])\n",
    "\n",
    "simon2.add_cpds(cpd_q0m3, cpd_q1m3, cpd_q2m3, cpd_q3m3, cpd_q0m4, cpd_q1m4, cpd_q2m4, cpd_q3m4, cpd_q0m5, cpd_q1m5, cpd_q2m5, cpd_q3m5, cpd_q0m6, cpd_q1m6, cpd_q2m6, cpd_q3m6)\n",
    "simon2Infer = VariableElimination(simon2)\n",
    "\n",
    "q = simon2Infer.query(['q0m6', 'q1m6', 'q2m6', 'q3m6'], evidence = {'q0m3': 0, 'q1m3': 0, 'q2m3': 0, 'q3m3': 0})\n",
    "q1 = simon2Infer.query(['q0m6', 'q1m6', 'q2m6', 'q3m6'], evidence = {'q0m3': 0, 'q1m3': 1, 'q2m3': 1, 'q3m3': 1})\n",
    "print(q)\n",
    "print(q1)"
   ]
  }
 ],
 "metadata": {
  "kernelspec": {
   "display_name": "Python 3",
   "language": "python",
   "name": "python3"
  },
  "language_info": {
   "codemirror_mode": {
    "name": "ipython",
    "version": 3
   },
   "file_extension": ".py",
   "mimetype": "text/x-python",
   "name": "python",
   "nbconvert_exporter": "python",
   "pygments_lexer": "ipython3",
   "version": "3.8.8"
  }
 },
 "nbformat": 4,
 "nbformat_minor": 5
}
