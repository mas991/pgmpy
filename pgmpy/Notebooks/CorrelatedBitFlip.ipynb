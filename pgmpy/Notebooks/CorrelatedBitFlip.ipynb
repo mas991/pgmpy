{
 "cells": [
  {
   "cell_type": "code",
   "execution_count": 10,
   "id": "ab7b7462",
   "metadata": {},
   "outputs": [
    {
     "data": {
      "application/vnd.jupyter.widget-view+json": {
       "model_id": "b33d0f2070db458fb09e316dcc0502fc",
       "version_major": 2,
       "version_minor": 0
      },
      "text/plain": [
       "  0%|          | 0/2 [00:00<?, ?it/s]"
      ]
     },
     "metadata": {},
     "output_type": "display_data"
    },
    {
     "data": {
      "application/vnd.jupyter.widget-view+json": {
       "model_id": "732fdf9ba10d4857a9f554f5329ed43e",
       "version_major": 2,
       "version_minor": 0
      },
      "text/plain": [
       "  0%|          | 0/2 [00:00<?, ?it/s]"
      ]
     },
     "metadata": {},
     "output_type": "display_data"
    },
    {
     "name": "stdout",
     "output_type": "stream",
     "text": [
      "+--------+---------+--------+---------+--------------------------+\n",
      "| rv2    | q1m1    | rv1    | q0m1    |   phi(rv2,q1m1,rv1,q0m1) |\n",
      "+========+=========+========+=========+==========================+\n",
      "| rv2(0) | q1m1(0) | rv1(0) | q0m1(0) |           0.9000+0.0000j |\n",
      "+--------+---------+--------+---------+--------------------------+\n",
      "| rv2(0) | q1m1(0) | rv1(0) | q0m1(1) |           0.0000+0.0000j |\n",
      "+--------+---------+--------+---------+--------------------------+\n",
      "| rv2(0) | q1m1(0) | rv1(1) | q0m1(0) |           0.0000+0.0000j |\n",
      "+--------+---------+--------+---------+--------------------------+\n",
      "| rv2(0) | q1m1(0) | rv1(1) | q0m1(1) |           0.2646+0.0000j |\n",
      "+--------+---------+--------+---------+--------------------------+\n",
      "| rv2(0) | q1m1(1) | rv1(0) | q0m1(0) |           0.0000+0.0000j |\n",
      "+--------+---------+--------+---------+--------------------------+\n",
      "| rv2(0) | q1m1(1) | rv1(0) | q0m1(1) |           0.0000+0.0000j |\n",
      "+--------+---------+--------+---------+--------------------------+\n",
      "| rv2(0) | q1m1(1) | rv1(1) | q0m1(0) |           0.0000+0.0000j |\n",
      "+--------+---------+--------+---------+--------------------------+\n",
      "| rv2(0) | q1m1(1) | rv1(1) | q0m1(1) |           0.0000+0.0000j |\n",
      "+--------+---------+--------+---------+--------------------------+\n",
      "| rv2(1) | q1m1(0) | rv1(0) | q0m1(0) |           0.0000+0.0000j |\n",
      "+--------+---------+--------+---------+--------------------------+\n",
      "| rv2(1) | q1m1(0) | rv1(0) | q0m1(1) |           0.0000+0.0000j |\n",
      "+--------+---------+--------+---------+--------------------------+\n",
      "| rv2(1) | q1m1(0) | rv1(1) | q0m1(0) |           0.0000+0.0000j |\n",
      "+--------+---------+--------+---------+--------------------------+\n",
      "| rv2(1) | q1m1(0) | rv1(1) | q0m1(1) |           0.0000+0.0000j |\n",
      "+--------+---------+--------+---------+--------------------------+\n",
      "| rv2(1) | q1m1(1) | rv1(0) | q0m1(0) |           0.3000+0.0000j |\n",
      "+--------+---------+--------+---------+--------------------------+\n",
      "| rv2(1) | q1m1(1) | rv1(0) | q0m1(1) |           0.0000+0.0000j |\n",
      "+--------+---------+--------+---------+--------------------------+\n",
      "| rv2(1) | q1m1(1) | rv1(1) | q0m1(0) |           0.0000+0.0000j |\n",
      "+--------+---------+--------+---------+--------------------------+\n",
      "| rv2(1) | q1m1(1) | rv1(1) | q0m1(1) |           0.1732+0.0000j |\n",
      "+--------+---------+--------+---------+--------------------------+\n"
     ]
    }
   ],
   "source": [
    "# Comment out these lines\n",
    "import sys\n",
    "sys.path.insert(0, 'C:\\\\Users\\\\masch\\\\Quantum Computing\\\\QComp\\\\pgmpy')\n",
    "\n",
    "# Imports\n",
    "import cmath\n",
    "import numpy as np\n",
    "from pgmpy.models import BayesianNetwork\n",
    "from pgmpy.factors.discrete.CPD import TabularCPD\n",
    "from pgmpy.inference import VariableElimination\n",
    "from pgmpy.inference import BeliefPropagation\n",
    "\n",
    "p1 = 0.1\n",
    "p2 = 0.3\n",
    "\n",
    "corr_bit_flip = BayesianNetwork([('q0m0','q0m1'),('q1m0','q1m1'),('rv1','rv2'),('rv1','q0m1'),('rv2','q1m1')])\n",
    "cpd_q0m0 = TabularCPD(variable='q0m0',variable_card=2,values=[[1],[0]])\n",
    "cpd_q1m0 = TabularCPD(variable='q1m0',variable_card=2,values=[[1],[0]])\n",
    "cpd_rv1 = TabularCPD(variable='rv1',variable_card=2,values=[[np.sqrt(1-p1)],[np.sqrt(p1)]])\n",
    "cpd_rv2 = TabularCPD(variable='rv2',variable_card=2,values=[[np.sqrt(1-p1),np.sqrt(1-p2)],[np.sqrt(p1),np.sqrt(p2)]],evidence=['rv1'],evidence_card=[2])\n",
    "cpd_q0m1 = TabularCPD(variable='q0m1',variable_card=2,values=[[1,0,0,1],[0,1,1,0]],evidence=['q0m0','rv1'],evidence_card=[2,2])\n",
    "cpd_q1m1 = TabularCPD(variable='q1m1',variable_card=2,values=[[1,0,0,1],[0,1,1,0]],evidence=['q1m0','rv2'],evidence_card=[2,2])\n",
    "\n",
    "corr_bit_flip.add_cpds(cpd_q0m0,cpd_q1m0,cpd_rv1,cpd_rv2,cpd_q0m1,cpd_q1m1)\n",
    "corr_infer = VariableElimination(corr_bit_flip)\n",
    "corr_query = corr_infer.query(['rv1','rv2','q0m1','q1m1'])\n",
    "print(corr_query)"
   ]
  },
  {
   "cell_type": "code",
   "execution_count": 11,
   "id": "f0603182",
   "metadata": {},
   "outputs": [],
   "source": [
    "def cpd_2_dm(obj,rvs,var):\n",
    "    numQubits = len(var)\n",
    "    numRVs = len(rvs)\n",
    "    varOrder = obj.variables\n",
    "    numVars = len(varOrder)\n",
    "    qubitOrdering = []\n",
    "    rvsOrdering = []\n",
    "    \n",
    "    for i in range(numQubits):\n",
    "        v = var[i]\n",
    "        j = 0\n",
    "        while(j < numVars and v != varOrder[j]):\n",
    "            j += 1\n",
    "        qubitOrdering.append(2**(numVars - j - 1))\n",
    "        \n",
    "    for i in range(numRVs):\n",
    "        v = rvs[i]\n",
    "        j = 0\n",
    "        while(j < numVars and v != varOrder[j]):\n",
    "            j += 1\n",
    "        rvsOrdering.append(2**(numVars - j - 1))\n",
    "\n",
    "    vals = (obj.values).flatten()\n",
    "    dm = np.zeros((2**numQubits,2**numQubits),dtype=\"complex_\")\n",
    "    numEvents = 2**numRVs\n",
    "    numPermutations = 2**numQubits\n",
    "    \n",
    "    for i in range(numEvents):\n",
    "        val1 = 0\n",
    "        for j in range(numRVs):\n",
    "            val1 += ((i//(2**j))%2)*rvsOrdering[numRVs - j - 1]\n",
    "        arr1 = np.zeros((numPermutations,1),dtype=\"complex_\")\n",
    "        arr2 = np.zeros((1,numPermutations),dtype=\"complex_\")\n",
    "        for j in range(numPermutations):\n",
    "            val2 = val1\n",
    "            for k in range(numQubits):\n",
    "                val2 += ((j//(2**k))%2)*qubitOrdering[numQubits - k - 1]\n",
    "            arr1[j][0] = vals[val2]\n",
    "            arr2[0][j] = np.conj(vals[val2])\n",
    "        dm += np.matmul(arr1,arr2)\n",
    "        \n",
    "    return dm"
   ]
  },
  {
   "cell_type": "code",
   "execution_count": 12,
   "id": "47e49cb1",
   "metadata": {},
   "outputs": [
    {
     "name": "stdout",
     "output_type": "stream",
     "text": [
      "[[0.81+0.j 0.  +0.j 0.  +0.j 0.  +0.j]\n",
      " [0.  +0.j 0.09+0.j 0.  +0.j 0.  +0.j]\n",
      " [0.  +0.j 0.  +0.j 0.07+0.j 0.  +0.j]\n",
      " [0.  +0.j 0.  +0.j 0.  +0.j 0.03+0.j]]\n"
     ]
    }
   ],
   "source": [
    "X = cpd_2_dm(corr_query,['rv1','rv2'],['q0m1', 'q1m1']).round(4)\n",
    "print(X)"
   ]
  },
  {
   "cell_type": "code",
   "execution_count": null,
   "id": "baf182c3",
   "metadata": {},
   "outputs": [],
   "source": []
  }
 ],
 "metadata": {
  "kernelspec": {
   "display_name": "Python 3",
   "language": "python",
   "name": "python3"
  },
  "language_info": {
   "codemirror_mode": {
    "name": "ipython",
    "version": 3
   },
   "file_extension": ".py",
   "mimetype": "text/x-python",
   "name": "python",
   "nbconvert_exporter": "python",
   "pygments_lexer": "ipython3",
   "version": "3.8.8"
  }
 },
 "nbformat": 4,
 "nbformat_minor": 5
}
