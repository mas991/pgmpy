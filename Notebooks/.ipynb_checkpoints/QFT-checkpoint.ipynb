{
 "cells": [
  {
   "cell_type": "code",
   "execution_count": 1,
   "id": "a6052236",
   "metadata": {},
   "outputs": [
    {
     "data": {
      "text/html": [
       "<pre style=\"word-wrap: normal;white-space: pre;background: #fff0;line-height: 1.1;font-family: &quot;Courier New&quot;,Courier,monospace\">     ┌───┐\n",
       "q_0: ┤ H ├\n",
       "     └───┘\n",
       "c: 1/═════\n",
       "          </pre>"
      ],
      "text/plain": [
       "     ┌───┐\n",
       "q_0: ┤ H ├\n",
       "     └───┘\n",
       "c: 1/═════\n",
       "          "
      ]
     },
     "execution_count": 1,
     "metadata": {},
     "output_type": "execute_result"
    }
   ],
   "source": [
    "import numpy as np\n",
    "import math\n",
    "\n",
    "# importing Qiskit\n",
    "from qiskit import IBMQ, Aer\n",
    "from qiskit.providers.ibmq import least_busy\n",
    "from qiskit import QuantumCircuit, assemble, transpile\n",
    "\n",
    "# import basic plot tools\n",
    "from qiskit.visualization import plot_histogram\n",
    "\n",
    "def qft_rotations(circuit, n):\n",
    "    \"\"\"Performs qft on the first n qubits in circuit (without swaps)\"\"\"\n",
    "    if n == 0:\n",
    "        return circuit\n",
    "    n -= 1\n",
    "    circuit.h(n)\n",
    "    for qubit in range(n):\n",
    "        circuit.cp(math.pi/2**(n-qubit), qubit, n)\n",
    "    # At the end of our function, we call the same function again on\n",
    "    # the next qubits (we reduced n by one earlier in the function)\n",
    "    qft_rotations(circuit, n)\n",
    "    \n",
    "def swap_registers(circuit, n):\n",
    "    for qubit in range(n//2):\n",
    "        circuit.swap(qubit, n-qubit-1)\n",
    "    return circuit\n",
    "\n",
    "def qftCircuit(circuit, n):\n",
    "    \"\"\"QFT on the first n qubits in circuit\"\"\"\n",
    "    qft_rotations(circuit, n)\n",
    "    swap_registers(circuit, n)\n",
    "    return circuit\n",
    "\n",
    "n = 1\n",
    "\n",
    "qc = QuantumCircuit(n,n)\n",
    "qftCircuit(qc,n)\n",
    "qc.draw()"
   ]
  },
  {
   "cell_type": "code",
   "execution_count": 2,
   "id": "bd6f36ed",
   "metadata": {},
   "outputs": [
    {
     "name": "stdout",
     "output_type": "stream",
     "text": [
      "[0.70710678+0.j 0.70710678+0.j]\n"
     ]
    }
   ],
   "source": [
    "import qiskit.quantum_info as qi\n",
    "stv1 = qi.Statevector.from_instruction(qc)\n",
    "print(stv1.__array__())"
   ]
  },
  {
   "cell_type": "code",
   "execution_count": 3,
   "id": "7499e1d6",
   "metadata": {},
   "outputs": [
    {
     "data": {
      "application/vnd.jupyter.widget-view+json": {
       "model_id": "af59591ceb3346ea87b8b0ee30a69a6b",
       "version_major": 2,
       "version_minor": 0
      },
      "text/plain": [
       "  0%|          | 0/1 [00:00<?, ?it/s]"
      ]
     },
     "metadata": {},
     "output_type": "display_data"
    },
    {
     "data": {
      "application/vnd.jupyter.widget-view+json": {
       "model_id": "93b177cea10b433190cceadec4dd84b2",
       "version_major": 2,
       "version_minor": 0
      },
      "text/plain": [
       "  0%|          | 0/1 [00:00<?, ?it/s]"
      ]
     },
     "metadata": {},
     "output_type": "display_data"
    },
    {
     "name": "stdout",
     "output_type": "stream",
     "text": [
      "+---------+----------------+\n",
      "| q0m1    |      phi(q0m1) |\n",
      "+=========+================+\n",
      "| q0m1(0) | 0.7071+0.0000j |\n",
      "+---------+----------------+\n",
      "| q0m1(1) | 0.7071+0.0000j |\n",
      "+---------+----------------+\n"
     ]
    },
    {
     "name": "stderr",
     "output_type": "stream",
     "text": [
      "C:\\Users\\masch\\Quantum Computing\\QComp\\pgmpy\\pgmpy\\extern\\tabulate.py:282: ComplexWarning: Casting complex values to real discards the imaginary part\n",
      "  n = conv(string)\n"
     ]
    }
   ],
   "source": [
    "import sys\n",
    "sys.path.insert(0, 'C:\\\\Users\\\\masch\\\\Quantum Computing\\\\QComp\\\\pgmpy')\n",
    "#QFT with one qubit\n",
    "\n",
    "import cmath\n",
    "import math\n",
    "\n",
    "from pgmpy.models import BayesianNetwork\n",
    "from pgmpy.factors.discrete.CPD import TabularCPD\n",
    "from pgmpy.inference import VariableElimination\n",
    "from pgmpy.inference import BeliefPropagation\n",
    "\n",
    "N = 2\n",
    "omega_N = cmath.exp(2*math.pi*1j/N)\n",
    "qft = BayesianNetwork([('q0m0','q0m1')])\n",
    "cpd_q0m0 = TabularCPD(variable = 'q0m0', variable_card = 2, values = [[1], [0]])\n",
    "cpd_q0m1 = TabularCPD(variable='q0m1', variable_card = 2, values = [[1/np.sqrt(N),1/np.sqrt(N)], [1/np.sqrt(N),omega_N/np.sqrt(N)]], evidence = ['q0m0'], evidence_card = [2])\n",
    "\n",
    "\"\"\"\n",
    "U_QFT =\n",
    "[1/sqrt(2)   1/sqrt(2)]\n",
    "[1/sqrt(2)   -1/sqrt(2)]\n",
    "\"\"\"\n",
    "qft.add_cpds(cpd_q0m0,cpd_q0m1)\n",
    "qftInfer = VariableElimination(qft)\n",
    "print(qftInfer.query(['q0m1']))"
   ]
  },
  {
   "cell_type": "code",
   "execution_count": 4,
   "id": "c05bd027",
   "metadata": {},
   "outputs": [
    {
     "data": {
      "text/html": [
       "<pre style=\"word-wrap: normal;white-space: pre;background: #fff0;line-height: 1.1;font-family: &quot;Courier New&quot;,Courier,monospace\">                   ┌───┐   \n",
       "q_0: ──────■───────┤ H ├─X─\n",
       "     ┌───┐ │P(π/2) └───┘ │ \n",
       "q_1: ┤ H ├─■─────────────X─\n",
       "     └───┘                 \n",
       "c: 2/══════════════════════\n",
       "                           </pre>"
      ],
      "text/plain": [
       "                   ┌───┐   \n",
       "q_0: ──────■───────┤ H ├─X─\n",
       "     ┌───┐ │P(π/2) └───┘ │ \n",
       "q_1: ┤ H ├─■─────────────X─\n",
       "     └───┘                 \n",
       "c: 2/══════════════════════\n",
       "                           "
      ]
     },
     "execution_count": 4,
     "metadata": {},
     "output_type": "execute_result"
    }
   ],
   "source": [
    "n = 2\n",
    "\n",
    "qc = QuantumCircuit(n,n)\n",
    "qftCircuit(qc,n)\n",
    "qc.draw()"
   ]
  },
  {
   "cell_type": "code",
   "execution_count": 5,
   "id": "70dfc018",
   "metadata": {},
   "outputs": [
    {
     "name": "stdout",
     "output_type": "stream",
     "text": [
      "[0.5+0.j 0.5+0.j 0.5+0.j 0.5+0.j]\n"
     ]
    }
   ],
   "source": [
    "stv1 = qi.Statevector.from_instruction(qc)\n",
    "print(stv1.__array__())"
   ]
  },
  {
   "cell_type": "code",
   "execution_count": 6,
   "id": "497937f5",
   "metadata": {},
   "outputs": [
    {
     "data": {
      "application/vnd.jupyter.widget-view+json": {
       "model_id": "c79779777096439c8148689e58986d68",
       "version_major": 2,
       "version_minor": 0
      },
      "text/plain": [
       "  0%|          | 0/2 [00:00<?, ?it/s]"
      ]
     },
     "metadata": {},
     "output_type": "display_data"
    },
    {
     "data": {
      "application/vnd.jupyter.widget-view+json": {
       "model_id": "dd00579f71c9418080d1400d71ea4a38",
       "version_major": 2,
       "version_minor": 0
      },
      "text/plain": [
       "  0%|          | 0/2 [00:00<?, ?it/s]"
      ]
     },
     "metadata": {},
     "output_type": "display_data"
    },
    {
     "name": "stdout",
     "output_type": "stream",
     "text": [
      "+---------+---------+------------------+\n",
      "| q1m1    | q0m1    |   phi(q1m1,q0m1) |\n",
      "+=========+=========+==================+\n",
      "| q1m1(0) | q0m1(0) |   0.5000+0.0000j |\n",
      "+---------+---------+------------------+\n",
      "| q1m1(0) | q0m1(1) |   0.5000+0.0000j |\n",
      "+---------+---------+------------------+\n",
      "| q1m1(1) | q0m1(0) |   0.5000+0.0000j |\n",
      "+---------+---------+------------------+\n",
      "| q1m1(1) | q0m1(1) |   0.5000+0.0000j |\n",
      "+---------+---------+------------------+\n"
     ]
    },
    {
     "data": {
      "text/plain": [
       "'\\nU_QFT(00) = 1/2 00 + 1/2 01 + 1/2 10 + 1/2 11 = (1/sqrt(2)* (0 + 1)) * (1/sqrt(2)* (0 + 1))\\nU_QFT(01) = 1/2 00 + i/2 01 - 1/2 10 - i/2 11 = (1/sqrt(2)* (0 - 1)) * (1/sqrt(2)* (0 + i*1))\\n'"
      ]
     },
     "execution_count": 6,
     "metadata": {},
     "output_type": "execute_result"
    }
   ],
   "source": [
    "#QFT with 2 qubits\n",
    "\n",
    "N = 4\n",
    "omega_N = cmath.exp(2*math.pi*1j/N)\n",
    "qft = BayesianNetwork([('q0m0','q0m1'), ('q1m0','q0m1'), ('q0m0','q1m1'), ('q1m0','q1m1')])\n",
    "cpd_q0m0 = TabularCPD(variable = 'q0m0', variable_card = 2, values = [[1], [0]])\n",
    "cpd_q1m0 = TabularCPD(variable = 'q1m0', variable_card = 2, values = [[1], [0]])\n",
    "cpd_q0m1 = TabularCPD(variable='q0m1', variable_card = 2, values = [[1/np.sqrt(2),1/np.sqrt(2),1/np.sqrt(2),1/np.sqrt(2)], [1/np.sqrt(2),(omega_N**2)/np.sqrt(2),(omega_N**4)/np.sqrt(2),(omega_N**6)/np.sqrt(2)]], evidence = ['q0m0','q1m0'], evidence_card = [2,2])\n",
    "cpd_q1m1 = TabularCPD(variable='q1m1', variable_card = 2, values = [[1/np.sqrt(2),1/np.sqrt(2),1/np.sqrt(2),1/np.sqrt(2)], [1/np.sqrt(2),(omega_N**1)/np.sqrt(2),(omega_N**2)/np.sqrt(2),(omega_N**3)/np.sqrt(2)]], evidence = ['q0m0','q1m0'], evidence_card = [2,2])\n",
    "\n",
    "\"\"\"\n",
    "U_QFT =\n",
    "[1/2   1/2   1/2   1/2]\n",
    "[1/2   i/2   -1/2   -i/2]\n",
    "[1/2   -1/2   1/2   -1/2]\n",
    "[1/2   -i/2   -1/2   i/2]\n",
    "\"\"\"\n",
    "\n",
    "\n",
    "qft.add_cpds(cpd_q0m0,cpd_q0m1,cpd_q1m0,cpd_q1m1)\n",
    "qftInfer = VariableElimination(qft)\n",
    "print(qftInfer.query(['q0m1','q1m1']))\n",
    "\n",
    "\"\"\"\n",
    "U_QFT(00) = 1/2 00 + 1/2 01 + 1/2 10 + 1/2 11 = (1/sqrt(2)* (0 + 1)) * (1/sqrt(2)* (0 + 1))\n",
    "U_QFT(01) = 1/2 00 + i/2 01 - 1/2 10 - i/2 11 = (1/sqrt(2)* (0 - 1)) * (1/sqrt(2)* (0 + i*1))\n",
    "\"\"\""
   ]
  },
  {
   "cell_type": "code",
   "execution_count": 7,
   "id": "afa24046",
   "metadata": {},
   "outputs": [
    {
     "data": {
      "text/html": [
       "<pre style=\"word-wrap: normal;white-space: pre;background: #fff0;line-height: 1.1;font-family: &quot;Courier New&quot;,Courier,monospace\">                                          ┌───┐   \n",
       "q_0: ──────■──────────────────────■───────┤ H ├─X─\n",
       "           │                ┌───┐ │P(π/2) └───┘ │ \n",
       "q_1: ──────┼────────■───────┤ H ├─■─────────────┼─\n",
       "     ┌───┐ │P(π/4)  │P(π/2) └───┘               │ \n",
       "q_2: ┤ H ├─■────────■───────────────────────────X─\n",
       "     └───┘                                        \n",
       "c: 3/═════════════════════════════════════════════\n",
       "                                                  </pre>"
      ],
      "text/plain": [
       "                                          ┌───┐   \n",
       "q_0: ──────■──────────────────────■───────┤ H ├─X─\n",
       "           │                ┌───┐ │P(π/2) └───┘ │ \n",
       "q_1: ──────┼────────■───────┤ H ├─■─────────────┼─\n",
       "     ┌───┐ │P(π/4)  │P(π/2) └───┘               │ \n",
       "q_2: ┤ H ├─■────────■───────────────────────────X─\n",
       "     └───┘                                        \n",
       "c: 3/═════════════════════════════════════════════\n",
       "                                                  "
      ]
     },
     "execution_count": 7,
     "metadata": {},
     "output_type": "execute_result"
    }
   ],
   "source": [
    "n = 3\n",
    "\n",
    "qc = QuantumCircuit(n,n)\n",
    "qftCircuit(qc,n)\n",
    "qc.draw()"
   ]
  },
  {
   "cell_type": "code",
   "execution_count": 8,
   "id": "4c40fb1c",
   "metadata": {},
   "outputs": [
    {
     "name": "stdout",
     "output_type": "stream",
     "text": [
      "[0.35355339+0.j 0.35355339+0.j 0.35355339+0.j 0.35355339+0.j\n",
      " 0.35355339+0.j 0.35355339+0.j 0.35355339+0.j 0.35355339+0.j]\n"
     ]
    }
   ],
   "source": [
    "stv1 = qi.Statevector.from_instruction(qc)\n",
    "print(stv1.__array__())"
   ]
  },
  {
   "cell_type": "code",
   "execution_count": 9,
   "id": "43633744",
   "metadata": {},
   "outputs": [
    {
     "data": {
      "application/vnd.jupyter.widget-view+json": {
       "model_id": "8362941316694e24a4c03abbc558a4e2",
       "version_major": 2,
       "version_minor": 0
      },
      "text/plain": [
       "  0%|          | 0/3 [00:00<?, ?it/s]"
      ]
     },
     "metadata": {},
     "output_type": "display_data"
    },
    {
     "name": "stdout",
     "output_type": "stream",
     "text": [
      "+---------+---------+---------+-----------------------+\n",
      "| q1m1    | q0m1    | q2m1    |   phi(q1m1,q0m1,q2m1) |\n",
      "+=========+=========+=========+=======================+\n",
      "| q1m1(0) | q0m1(0) | q2m1(0) |        0.3536+0.0000j |\n",
      "+---------+---------+---------+-----------------------+\n",
      "| q1m1(0) | q0m1(0) | q2m1(1) |        0.3536+0.0000j |\n",
      "+---------+---------+---------+-----------------------+\n",
      "| q1m1(0) | q0m1(1) | q2m1(0) |        0.3536+0.0000j |\n",
      "+---------+---------+---------+-----------------------+\n",
      "| q1m1(0) | q0m1(1) | q2m1(1) |        0.3536+0.0000j |\n",
      "+---------+---------+---------+-----------------------+\n",
      "| q1m1(1) | q0m1(0) | q2m1(0) |        0.3536+0.0000j |\n",
      "+---------+---------+---------+-----------------------+\n",
      "| q1m1(1) | q0m1(0) | q2m1(1) |        0.3536+0.0000j |\n",
      "+---------+---------+---------+-----------------------+\n",
      "| q1m1(1) | q0m1(1) | q2m1(0) |        0.3536+0.0000j |\n",
      "+---------+---------+---------+-----------------------+\n",
      "| q1m1(1) | q0m1(1) | q2m1(1) |        0.3536+0.0000j |\n",
      "+---------+---------+---------+-----------------------+\n"
     ]
    }
   ],
   "source": [
    "#QFT with 3 qubits\n",
    "\n",
    "N = 8\n",
    "A = 1/(np.sqrt(2))\n",
    "omega_N = cmath.exp(2*math.pi*1j/N)\n",
    "qft = BayesianNetwork([('q0m0','q0m1'), ('q0m0','q1m1'), ('q0m0','q2m1'), ('q1m0','q0m1'), ('q1m0','q1m1'), ('q1m0','q2m1'), ('q2m0','q0m1'), ('q2m0','q1m1'), ('q2m0','q2m1')])\n",
    "cpd_q0m0 = TabularCPD(variable = 'q0m0', variable_card = 2, values = [[1], [0]])\n",
    "cpd_q1m0 = TabularCPD(variable = 'q1m0', variable_card = 2, values = [[1], [0]])\n",
    "cpd_q2m0 = TabularCPD(variable = 'q2m0', variable_card = 2, values = [[1], [0]])\n",
    "cpd_q0m1 = TabularCPD(variable='q0m1', variable_card = 2, values = [[A,A,A,A,A,A,A,A], [A,A*(omega_N**4),A*(omega_N**8),A*(omega_N**12),A*(omega_N**16),A*(omega_N**20),A*(omega_N**24),A*(omega_N**28)]], evidence = ['q0m0','q1m0','q2m0'], evidence_card = [2,2,2])\n",
    "cpd_q1m1 = TabularCPD(variable='q1m1', variable_card = 2, values = [[A,A,A,A,A,A,A,A], [A,A*(omega_N**2),A*(omega_N**4),A*(omega_N**6),A*(omega_N**8),A*(omega_N**10),A*(omega_N**12),A*(omega_N**14)]], evidence = ['q0m0','q1m0','q2m0'], evidence_card = [2,2,2])\n",
    "cpd_q2m1 = TabularCPD(variable='q2m1', variable_card = 2, values = [[A,A,A,A,A,A,A,A], [A,A*(omega_N**1),A*(omega_N**2),A*(omega_N**3),A*(omega_N**4),A*(omega_N**5),A*(omega_N**6),A*(omega_N**7)]], evidence = ['q0m0','q1m0','q2m0'], evidence_card = [2,2,2])\n",
    "\n",
    "\"\"\"\n",
    "Let w = e^(i*pi/3)\n",
    "U_QFT =\n",
    "1/(2*sqrt(2))*\n",
    "[1 1   1    1    1    1    1    1   ] \n",
    "[1 w   w^2  w^3  w^4  w^5  w^6  w^7 ]\n",
    "[1 w^2 w^4  w^6  w^8  w^10 w^12 w^14]\n",
    "[1 w^3 w^6  w^9  w^12 w^15 w^18 w^21]\n",
    "[1 w^4 w^8  w^12 w^16 w^20 w^24 w^28]\n",
    "[1 w^5 w^10 w^15 w^20 w^25 w^30 w^35]\n",
    "[1 w^6 w^12 w^18 w^24 w^30 w^36 w^42]\n",
    "[1 w^7 w^14 w^21 w^28 w^35 w^42 w^49]\n",
    "\"\"\"\n",
    "\n",
    "qft.add_cpds(cpd_q0m0,cpd_q0m1,cpd_q1m0,cpd_q1m1,cpd_q2m0,cpd_q2m1)\n",
    "qftInfer = VariableElimination(qft)\n",
    "print(qftInfer.query(['q0m1','q1m1','q2m1'],elimination_order=['q0m0','q1m0','q2m0']))"
   ]
  },
  {
   "cell_type": "code",
   "execution_count": 10,
   "id": "243d3b86",
   "metadata": {},
   "outputs": [
    {
     "data": {
      "application/vnd.jupyter.widget-view+json": {
       "model_id": "63264aa49e904bd78f91f10050a14378",
       "version_major": 2,
       "version_minor": 0
      },
      "text/plain": [
       "  0%|          | 0/3 [00:00<?, ?it/s]"
      ]
     },
     "metadata": {},
     "output_type": "display_data"
    },
    {
     "data": {
      "application/vnd.jupyter.widget-view+json": {
       "model_id": "55f72af89fe74b8fb5ccd92c9611f367",
       "version_major": 2,
       "version_minor": 0
      },
      "text/plain": [
       "  0%|          | 0/3 [00:00<?, ?it/s]"
      ]
     },
     "metadata": {},
     "output_type": "display_data"
    },
    {
     "name": "stdout",
     "output_type": "stream",
     "text": [
      "['q1m1', 'q0m1', 'q2m1']\n",
      "[[[0.35355339+0.j 0.35355339+0.j]\n",
      "  [0.35355339+0.j 0.35355339+0.j]]\n",
      "\n",
      " [[0.35355339+0.j 0.35355339+0.j]\n",
      "  [0.35355339+0.j 0.35355339+0.j]]]\n"
     ]
    }
   ],
   "source": [
    "qftVals = qftInfer.query(['q0m1','q1m1','q2m1'])\n",
    "print(qftVals.variables)\n",
    "print(qftVals.values)"
   ]
  },
  {
   "cell_type": "code",
   "execution_count": 11,
   "id": "dd2cdbac",
   "metadata": {},
   "outputs": [
    {
     "name": "stdout",
     "output_type": "stream",
     "text": [
      "+---------+--------+\n",
      "| q0m0(0) | (1+0j) |\n",
      "+---------+--------+\n",
      "| q0m0(1) | 0j     |\n",
      "+---------+--------+\n",
      "+---------+---------+---------+\n",
      "| q0m0    | q0m0(0) | q0m0(1) |\n",
      "+---------+---------+---------+\n",
      "| q0m1(0) | 0j      | (-0-1j) |\n",
      "+---------+---------+---------+\n",
      "| q0m1(1) | 1j      | 0j      |\n",
      "+---------+---------+---------+\n"
     ]
    },
    {
     "data": {
      "application/vnd.jupyter.widget-view+json": {
       "model_id": "738074725cd64e2f98e8ac21e79370ea",
       "version_major": 2,
       "version_minor": 0
      },
      "text/plain": [
       "  0%|          | 0/1 [00:00<?, ?it/s]"
      ]
     },
     "metadata": {},
     "output_type": "display_data"
    },
    {
     "data": {
      "application/vnd.jupyter.widget-view+json": {
       "model_id": "64b36d20d354424e929a4c47efea6129",
       "version_major": 2,
       "version_minor": 0
      },
      "text/plain": [
       "  0%|          | 0/1 [00:00<?, ?it/s]"
      ]
     },
     "metadata": {},
     "output_type": "display_data"
    },
    {
     "name": "stdout",
     "output_type": "stream",
     "text": [
      "+---------+----------------+\n",
      "| q0m1    |      phi(q0m1) |\n",
      "+=========+================+\n",
      "| q0m1(0) | 0.0000+0.0000j |\n",
      "+---------+----------------+\n",
      "| q0m1(1) | 0.0000+1.0000j |\n",
      "+---------+----------------+\n"
     ]
    }
   ],
   "source": [
    "#Y gate example\n",
    "\n",
    "N = 2\n",
    "omega_N = cmath.exp(2*math.pi*1j/N)\n",
    "qft = BayesianNetwork([('q0m0','q0m1')])\n",
    "cpd_q0m0 = TabularCPD(variable = 'q0m0', variable_card = 2, values = [[1], [0]])\n",
    "cpd_q0m1 = TabularCPD(variable='q0m1', variable_card = 2, values = [[0,-1j], [1j,0]], evidence = ['q0m0'], evidence_card = [2])\n",
    "\n",
    "print(cpd_q0m0)\n",
    "print(cpd_q0m1)\n",
    "qft.add_cpds(cpd_q0m0,cpd_q0m1)\n",
    "qftInfer = VariableElimination(qft)\n",
    "print(qftInfer.query(['q0m1']))"
   ]
  },
  {
   "cell_type": "code",
   "execution_count": 12,
   "id": "efd5293e",
   "metadata": {},
   "outputs": [
    {
     "name": "stdout",
     "output_type": "stream",
     "text": [
      "+---------+--------+\n",
      "| q0m0(0) | 0j     |\n",
      "+---------+--------+\n",
      "| q0m0(1) | (1+0j) |\n",
      "+---------+--------+\n",
      "+---------+--------+\n",
      "| q1m0(0) | (1+0j) |\n",
      "+---------+--------+\n",
      "| q1m0(1) | 0j     |\n",
      "+---------+--------+\n",
      "+---------+---------+---------+---------+---------+\n",
      "| q0m0    | q0m0(0) | q0m0(0) | q0m0(1) | q0m0(1) |\n",
      "+---------+---------+---------+---------+---------+\n",
      "| q1m0    | q1m0(0) | q1m0(1) | q1m0(0) | q1m0(1) |\n",
      "+---------+---------+---------+---------+---------+\n",
      "| q0m1(0) | (1+0j)  | (1+0j)  | 0j      | 0j      |\n",
      "+---------+---------+---------+---------+---------+\n",
      "| q0m1(1) | 0j      | 0j      | (1+0j)  | (1+0j)  |\n",
      "+---------+---------+---------+---------+---------+\n",
      "+---------+---------+---------+---------+---------+\n",
      "| q0m0    | q0m0(0) | q0m0(0) | q0m0(1) | q0m0(1) |\n",
      "+---------+---------+---------+---------+---------+\n",
      "| q1m0    | q1m0(0) | q1m0(1) | q1m0(0) | q1m0(1) |\n",
      "+---------+---------+---------+---------+---------+\n",
      "| q1m1(0) | (1+0j)  | 0j      | (1+0j)  | 0j      |\n",
      "+---------+---------+---------+---------+---------+\n",
      "| q1m1(1) | 0j      | (1+0j)  | 0j      | (1+0j)  |\n",
      "+---------+---------+---------+---------+---------+\n"
     ]
    },
    {
     "data": {
      "application/vnd.jupyter.widget-view+json": {
       "model_id": "0597e63b900b456fa293f645c513a84c",
       "version_major": 2,
       "version_minor": 0
      },
      "text/plain": [
       "  0%|          | 0/2 [00:00<?, ?it/s]"
      ]
     },
     "metadata": {},
     "output_type": "display_data"
    },
    {
     "data": {
      "application/vnd.jupyter.widget-view+json": {
       "model_id": "d12c0ee953b3448d93b02d126769e073",
       "version_major": 2,
       "version_minor": 0
      },
      "text/plain": [
       "  0%|          | 0/2 [00:00<?, ?it/s]"
      ]
     },
     "metadata": {},
     "output_type": "display_data"
    },
    {
     "name": "stdout",
     "output_type": "stream",
     "text": [
      "+---------+---------+------------------+\n",
      "| q1m1    | q0m1    |   phi(q1m1,q0m1) |\n",
      "+=========+=========+==================+\n",
      "| q1m1(0) | q0m1(0) |   0.0000+0.0000j |\n",
      "+---------+---------+------------------+\n",
      "| q1m1(0) | q0m1(1) |   1.0000+0.0000j |\n",
      "+---------+---------+------------------+\n",
      "| q1m1(1) | q0m1(0) |   0.0000+0.0000j |\n",
      "+---------+---------+------------------+\n",
      "| q1m1(1) | q0m1(1) |   0.0000+0.0000j |\n",
      "+---------+---------+------------------+\n"
     ]
    }
   ],
   "source": [
    "#Identity Gate on 2 qubits\n",
    "\n",
    "N = 4\n",
    "omega_N = cmath.exp(2*math.pi*1j/N)\n",
    "qft = BayesianNetwork([('q0m0','q0m1'), ('q1m0','q0m1'), ('q0m0','q1m1'), ('q1m0','q1m1')])\n",
    "cpd_q0m0 = TabularCPD(variable = 'q0m0', variable_card = 2, values = [[0], [1]])\n",
    "cpd_q1m0 = TabularCPD(variable = 'q1m0', variable_card = 2, values = [[1], [0]])\n",
    "cpd_q0m1 = TabularCPD(variable='q0m1', variable_card = 2, values = [[1,1,0,0], [0,0,1,1]], evidence = ['q0m0','q1m0'], evidence_card = [2,2])\n",
    "cpd_q1m1 = TabularCPD(variable='q1m1', variable_card = 2, values = [[1,0,1,0], [0,1,0,1]], evidence = ['q0m0','q1m0'], evidence_card = [2,2])\n",
    "\n",
    "print(cpd_q0m0)\n",
    "print(cpd_q1m0)\n",
    "print(cpd_q0m1)\n",
    "print(cpd_q1m1)\n",
    "qft.add_cpds(cpd_q0m0,cpd_q0m1,cpd_q1m0,cpd_q1m1)\n",
    "qftInfer = VariableElimination(qft)\n",
    "print(qftInfer.query(['q0m1','q1m1']))"
   ]
  },
  {
   "cell_type": "code",
   "execution_count": 13,
   "id": "26a1a87f",
   "metadata": {},
   "outputs": [
    {
     "name": "stdout",
     "output_type": "stream",
     "text": [
      "+---------+--------+\n",
      "| q0m0(0) | (1+0j) |\n",
      "+---------+--------+\n",
      "| q0m0(1) | 0j     |\n",
      "+---------+--------+\n",
      "+---------+-------------------------+----------------------------------------------+\n",
      "| q0m0    | q0m0(0)                 | q0m0(1)                                      |\n",
      "+---------+-------------------------+----------------------------------------------+\n",
      "| q0m1(0) | (0.7071067811865475+0j) | (0.7071067811865475+0j)                      |\n",
      "+---------+-------------------------+----------------------------------------------+\n",
      "| q0m1(1) | (0.7071067811865475+0j) | (-0.7071067811865475+8.659560562354933e-17j) |\n",
      "+---------+-------------------------+----------------------------------------------+\n"
     ]
    },
    {
     "data": {
      "application/vnd.jupyter.widget-view+json": {
       "model_id": "f004440a38cc42ca8323d17dd62f5a34",
       "version_major": 2,
       "version_minor": 0
      },
      "text/plain": [
       "  0%|          | 0/1 [00:00<?, ?it/s]"
      ]
     },
     "metadata": {},
     "output_type": "display_data"
    },
    {
     "name": "stdout",
     "output_type": "stream",
     "text": [
      "+---------+----------------+\n",
      "| q0m1    |      phi(q0m1) |\n",
      "+=========+================+\n",
      "| q0m1(0) | 0.7071+0.0000j |\n",
      "+---------+----------------+\n",
      "| q0m1(1) | 0.7071+0.0000j |\n",
      "+---------+----------------+\n"
     ]
    }
   ],
   "source": [
    "#Belief Propagation for QFT on 1 qubit\n",
    "\n",
    "N = 2\n",
    "omega_N = cmath.exp(2*math.pi*1j/N)\n",
    "qft = BayesianNetwork([('q0m0','q0m1')])\n",
    "cpd_q0m0 = TabularCPD(variable = 'q0m0', variable_card = 2, values = [[1], [0]])\n",
    "cpd_q0m1 = TabularCPD(variable='q0m1', variable_card = 2, values = [[1/np.sqrt(N),1/np.sqrt(N)], [1/np.sqrt(N),omega_N/np.sqrt(N)]], evidence = ['q0m0'], evidence_card = [2])\n",
    "\n",
    "print(cpd_q0m0)\n",
    "print(cpd_q0m1)\n",
    "qft.add_cpds(cpd_q0m0,cpd_q0m1)\n",
    "qftInfer = BeliefPropagation(qft)\n",
    "print(qftInfer.query(['q0m1']))"
   ]
  },
  {
   "cell_type": "code",
   "execution_count": 14,
   "id": "2a7ba45f",
   "metadata": {},
   "outputs": [
    {
     "name": "stdout",
     "output_type": "stream",
     "text": [
      "+---------+--------+\n",
      "| q0m0(0) | 0j     |\n",
      "+---------+--------+\n",
      "| q0m0(1) | (1+0j) |\n",
      "+---------+--------+\n",
      "+---------+--------+\n",
      "| q1m0(0) | 0j     |\n",
      "+---------+--------+\n",
      "| q1m0(1) | (1+0j) |\n",
      "+---------+--------+\n",
      "+---------+-------------------------+-----+-----------------------------------------------+\n",
      "| q0m0    | q0m0(0)                 | ... | q0m0(1)                                       |\n",
      "+---------+-------------------------+-----+-----------------------------------------------+\n",
      "| q1m0    | q1m0(0)                 | ... | q1m0(1)                                       |\n",
      "+---------+-------------------------+-----+-----------------------------------------------+\n",
      "| q0m1(0) | (0.7071067811865475+0j) | ... | (0.7071067811865475+0j)                       |\n",
      "+---------+-------------------------+-----+-----------------------------------------------+\n",
      "| q0m1(1) | (0.7071067811865475+0j) | ... | (-0.7071067811865475+2.5978681687064796e-16j) |\n",
      "+---------+-------------------------+-----+-----------------------------------------------+\n",
      "+---------+-------------------------+-----+-----------------------------------------------+\n",
      "| q0m0    | q0m0(0)                 | ... | q0m0(1)                                       |\n",
      "+---------+-------------------------+-----+-----------------------------------------------+\n",
      "| q1m0    | q1m0(0)                 | ... | q1m0(1)                                       |\n",
      "+---------+-------------------------+-----+-----------------------------------------------+\n",
      "| q1m1(0) | (0.7071067811865475+0j) | ... | (0.7071067811865475+0j)                       |\n",
      "+---------+-------------------------+-----+-----------------------------------------------+\n",
      "| q1m1(1) | (0.7071067811865475+0j) | ... | (-1.2989340843532398e-16-0.7071067811865475j) |\n",
      "+---------+-------------------------+-----+-----------------------------------------------+\n"
     ]
    },
    {
     "name": "stderr",
     "output_type": "stream",
     "text": [
      "C:\\Users\\masch\\Quantum Computing\\QComp\\pgmpy\\pgmpy\\factors\\discrete\\DiscreteFactor.py:825: RuntimeWarning: invalid value encountered in true_divide\n",
      "  phi.values = phi.values / phi1.values\n"
     ]
    },
    {
     "data": {
      "application/vnd.jupyter.widget-view+json": {
       "model_id": "689a244375554487bfab15e6ff5dfbf3",
       "version_major": 2,
       "version_minor": 0
      },
      "text/plain": [
       "  0%|          | 0/2 [00:00<?, ?it/s]"
      ]
     },
     "metadata": {},
     "output_type": "display_data"
    },
    {
     "name": "stdout",
     "output_type": "stream",
     "text": [
      "+---------+---------+------------------+\n",
      "| q1m1    | q0m1    |   phi(q1m1,q0m1) |\n",
      "+=========+=========+==================+\n",
      "| q1m1(0) | q0m1(0) |   0.5000+0.0000j |\n",
      "+---------+---------+------------------+\n",
      "| q1m1(0) | q0m1(1) |  -0.5000+0.0000j |\n",
      "+---------+---------+------------------+\n",
      "| q1m1(1) | q0m1(0) |  -0.0000-0.5000j |\n",
      "+---------+---------+------------------+\n",
      "| q1m1(1) | q0m1(1) |   0.0000+0.5000j |\n",
      "+---------+---------+------------------+\n"
     ]
    }
   ],
   "source": [
    "#Belief Propagation with QFT on 2 qubits\n",
    "\n",
    "N = 4\n",
    "omega_N = cmath.exp(2*math.pi*1j/N)\n",
    "qft = BayesianNetwork([('q0m0','q0m1'), ('q1m0','q0m1'), ('q0m0','q1m1'), ('q1m0','q1m1')])\n",
    "cpd_q0m0 = TabularCPD(variable = 'q0m0', variable_card = 2, values = [[0], [1]])\n",
    "cpd_q1m0 = TabularCPD(variable = 'q1m0', variable_card = 2, values = [[0], [1]])\n",
    "cpd_q0m1 = TabularCPD(variable='q0m1', variable_card = 2, values = [[1/np.sqrt(2),1/np.sqrt(2),1/np.sqrt(2),1/np.sqrt(2)], [1/np.sqrt(2),(omega_N**2)/np.sqrt(2),(omega_N**4)/np.sqrt(2),(omega_N**6)/np.sqrt(2)]], evidence = ['q0m0','q1m0'], evidence_card = [2,2])\n",
    "cpd_q1m1 = TabularCPD(variable='q1m1', variable_card = 2, values = [[1/np.sqrt(2),1/np.sqrt(2),1/np.sqrt(2),1/np.sqrt(2)], [1/np.sqrt(2),(omega_N**1)/np.sqrt(2),(omega_N**2)/np.sqrt(2),(omega_N**3)/np.sqrt(2)]], evidence = ['q0m0','q1m0'], evidence_card = [2,2])\n",
    "\n",
    "print(cpd_q0m0)\n",
    "print(cpd_q1m0)\n",
    "print(cpd_q0m1)\n",
    "print(cpd_q1m1)\n",
    "qft.add_cpds(cpd_q0m0,cpd_q0m1,cpd_q1m0,cpd_q1m1)\n",
    "qftInfer = BeliefPropagation(qft)\n",
    "print(qftInfer.query(['q0m1','q1m1']))"
   ]
  },
  {
   "cell_type": "code",
   "execution_count": 15,
   "id": "d935dcb9",
   "metadata": {},
   "outputs": [
    {
     "data": {
      "application/vnd.jupyter.widget-view+json": {
       "model_id": "56761007da0e4c4c92234aaa9d9e3381",
       "version_major": 2,
       "version_minor": 0
      },
      "text/plain": [
       "  0%|          | 0/5 [00:00<?, ?it/s]"
      ]
     },
     "metadata": {},
     "output_type": "display_data"
    },
    {
     "name": "stderr",
     "output_type": "stream",
     "text": [
      "C:\\Users\\masch\\Quantum Computing\\QComp\\pgmpy\\pgmpy\\factors\\discrete\\CPD.py:334: RuntimeWarning: invalid value encountered in true_divide\n",
      "  tabular_cpd.values = (cpd / np.sqrt(np.square(np.absolute(cpd)).sum(axis=0))).reshape(tabular_cpd.cardinality) #absolute value, square, sum, sqrt\n"
     ]
    },
    {
     "data": {
      "application/vnd.jupyter.widget-view+json": {
       "model_id": "7f9f6968031f44b5b34a08afe2ab26a7",
       "version_major": 2,
       "version_minor": 0
      },
      "text/plain": [
       "  0%|          | 0/5 [00:00<?, ?it/s]"
      ]
     },
     "metadata": {},
     "output_type": "display_data"
    },
    {
     "name": "stdout",
     "output_type": "stream",
     "text": [
      "+---------+---------+---------+-----------------------+\n",
      "| q2m2    | q1m4    | q0m5    |   phi(q2m2,q1m4,q0m5) |\n",
      "+=========+=========+=========+=======================+\n",
      "| q2m2(0) | q1m4(0) | q0m5(0) |        0.3536+0.0000j |\n",
      "+---------+---------+---------+-----------------------+\n",
      "| q2m2(0) | q1m4(0) | q0m5(1) |       -0.3536+0.0000j |\n",
      "+---------+---------+---------+-----------------------+\n",
      "| q2m2(0) | q1m4(1) | q0m5(0) |       -0.3536+0.0000j |\n",
      "+---------+---------+---------+-----------------------+\n",
      "| q2m2(0) | q1m4(1) | q0m5(1) |        0.3536+0.0000j |\n",
      "+---------+---------+---------+-----------------------+\n",
      "| q2m2(1) | q1m4(0) | q0m5(0) |        0.0000+0.3536j |\n",
      "+---------+---------+---------+-----------------------+\n",
      "| q2m2(1) | q1m4(0) | q0m5(1) |        0.0000-0.3536j |\n",
      "+---------+---------+---------+-----------------------+\n",
      "| q2m2(1) | q1m4(1) | q0m5(0) |        0.0000-0.3536j |\n",
      "+---------+---------+---------+-----------------------+\n",
      "| q2m2(1) | q1m4(1) | q0m5(1) |        0.0000+0.3536j |\n",
      "+---------+---------+---------+-----------------------+\n"
     ]
    }
   ],
   "source": [
    "N = 8\n",
    "sq = 1/(np.sqrt(2))\n",
    "omega_N = cmath.exp(2*math.pi*1j/N)\n",
    "qft = BayesianNetwork([('q2m0', 'q2m1'), ('q2m1', 'q2m2'), ('q1m0', 'q2m2'), ('q0m0', 'q2m2'), ('q1m0', 'q1m3'), ('q1m3', 'q1m4'), ('q0m0', 'q1m4'), ('q0m0', 'q0m5')])\n",
    "#('q0m5', 'q2m6'), ('q2m2', 'q0m6')\n",
    "cpd_q0m0 = TabularCPD(variable = 'q0m0', variable_card = 2, values = [[0],[1]])\n",
    "cpd_q1m0 = TabularCPD(variable = 'q1m0', variable_card = 2, values = [[1],[0]])\n",
    "cpd_q2m0 = TabularCPD(variable = 'q2m0', variable_card = 2, values = [[1],[0]])\n",
    "\n",
    "cpd_q2m1 = TabularCPD(variable='q2m1', variable_card = 2, values = [[sq,sq], [sq,-sq]], evidence = ['q2m0'], evidence_card = [2])\n",
    "cpd_q2m2 = TabularCPD(variable = 'q2m2', variable_card = 2, values = [[1,0,1,0,1,0,1,0], [0,1,0,-1,0,1j,0,-1j]], evidence = ['q0m0', 'q1m0', 'q2m1'], evidence_card = [2,2,2])\n",
    "cpd_q1m3 = TabularCPD(variable='q1m3', variable_card = 2, values = [[sq,sq], [sq,-sq]], evidence = ['q1m0'], evidence_card = [2])\n",
    "cpd_q1m4 = TabularCPD(variable = 'q1m4', variable_card = 2, values= [[1,0,1,0],[0,1,0,-1]], evidence = ['q0m0', 'q1m3'], evidence_card = [2,2])\n",
    "cpd_q0m5 = TabularCPD(variable = 'q0m5', variable_card = 2, values = [[sq,sq], [sq,-sq]], evidence = ['q0m0'], evidence_card = [2])\n",
    "cpd_q0m6 = TabularCPD(variable = 'q0m6', variable_card = 2, values = [[1,0], [0,1]], evidence = ['q2m2'], evidence_card = [2])\n",
    "cpd_q2m6 = TabularCPD(variable = 'q2m6', variable_card = 2, values = [[1,0], [0,1]], evidence = ['q0m5'], evidence_card = [2])\n",
    "qft.add_cpds(cpd_q0m0,cpd_q1m0,cpd_q2m0,cpd_q2m1,cpd_q2m2,cpd_q1m3,cpd_q1m4,cpd_q0m5)\n",
    "qftInfer = VariableElimination(qft)\n",
    "print(qftInfer.query(['q0m5','q1m4','q2m2']))"
   ]
  },
  {
   "cell_type": "code",
   "execution_count": 16,
   "id": "0558b4e6",
   "metadata": {},
   "outputs": [
    {
     "name": "stdout",
     "output_type": "stream",
     "text": [
      "[[[0.35355339+0.j 0.35355339+0.j]\n",
      "  [0.35355339+0.j 0.35355339+0.j]]\n",
      "\n",
      " [[0.35355339+0.j 0.35355339+0.j]\n",
      "  [0.35355339+0.j 0.35355339+0.j]]]\n",
      "[0.35355339+0.j 0.35355339+0.j 0.35355339+0.j 0.35355339+0.j\n",
      " 0.35355339+0.j 0.35355339+0.j 0.35355339+0.j 0.35355339+0.j]\n",
      "['q1m1', 'q0m1', 'q2m1']\n"
     ]
    }
   ],
   "source": [
    "print(qftVals.values)\n",
    "print(stv1.__array__())\n",
    "print(qftVals.variables)"
   ]
  },
  {
   "cell_type": "code",
   "execution_count": 17,
   "id": "8fd1a59f",
   "metadata": {},
   "outputs": [
    {
     "name": "stdout",
     "output_type": "stream",
     "text": [
      "[(0.35355339059327373+0j), (0.35355339059327373+0j), (0.35355339059327373+0j), (0.35355339059327373+0j), (0.35355339059327373+0j), (0.35355339059327373+0j), (0.35355339059327373+0j), (0.35355339059327373+0j)]\n"
     ]
    }
   ],
   "source": [
    "qftSV = [qftVals.values[0][0][0],qftVals.values[1][0][0],qftVals.values[0][0][1],qftVals.values[1][0][1],qftVals.values[0][1][0],qftVals.values[1][1][0],qftVals.values[0][1][1],qftVals.values[1][1][1]]\n",
    "print(qftSV)"
   ]
  },
  {
   "cell_type": "code",
   "execution_count": 18,
   "id": "0a499c93",
   "metadata": {},
   "outputs": [
    {
     "name": "stdout",
     "output_type": "stream",
     "text": [
      "[-5.55111512e-17+0.j -5.55111512e-17+0.j -5.55111512e-17+0.j\n",
      " -5.55111512e-17+0.j -5.55111512e-17+0.j -5.55111512e-17+0.j\n",
      " -5.55111512e-17+0.j -5.55111512e-17+0.j]\n"
     ]
    }
   ],
   "source": [
    "print(stv1.__array__()-qftSV)"
   ]
  },
  {
   "cell_type": "code",
   "execution_count": null,
   "id": "bf8bd10a",
   "metadata": {},
   "outputs": [],
   "source": [
    "\"\"\"\n",
    "TO DO LIST:\n",
    "\n",
    "1. Implement a function that automates the comparison between pgmpy and qiskit\n",
    "2. Organize files to look nice\n",
    "3. Push to Github\n",
    "4. Implement a function that generates the CPDs for hadamard, qft, pauli matrix gates, etc... save time\n",
    "5. Implement density matrices into pgmpy - eventually incorporate error events/Soham's work\n",
    "\n",
    "\"\"\""
   ]
  }
 ],
 "metadata": {
  "kernelspec": {
   "display_name": "Python 3",
   "language": "python",
   "name": "python3"
  },
  "language_info": {
   "codemirror_mode": {
    "name": "ipython",
    "version": 3
   },
   "file_extension": ".py",
   "mimetype": "text/x-python",
   "name": "python",
   "nbconvert_exporter": "python",
   "pygments_lexer": "ipython3",
   "version": "3.8.8"
  }
 },
 "nbformat": 4,
 "nbformat_minor": 5
}
