{
 "cells": [
  {
   "cell_type": "code",
   "execution_count": 1,
   "id": "00e3a45a",
   "metadata": {},
   "outputs": [
    {
     "data": {
      "text/plain": [
       "\"\\nIn this notebook, one example of simon's algorithm will be modeled using both IBM Qiskit and pgmpy.\\nThe results are compared at the end.\\n\""
      ]
     },
     "execution_count": 1,
     "metadata": {},
     "output_type": "execute_result"
    }
   ],
   "source": [
    "\"\"\"\n",
    "In this notebook, one example of simon's algorithm will be modeled using both IBM Qiskit and pgmpy.\n",
    "The results are compared at the end.\n",
    "\"\"\""
   ]
  },
  {
   "cell_type": "code",
   "execution_count": 2,
   "id": "ac733a9f",
   "metadata": {},
   "outputs": [
    {
     "data": {
      "text/html": [
       "<pre style=\"word-wrap: normal;white-space: pre;background: #fff0;line-height: 1.1;font-family: &quot;Courier New&quot;,Courier,monospace\">      ░                      ░ \n",
       "q_0: ─░───■────■─────────────░─\n",
       "      ░   │    │             ░ \n",
       "q_1: ─░───┼────┼────■────■───░─\n",
       "      ░ ┌─┴─┐  │  ┌─┴─┐  │   ░ \n",
       "q_2: ─░─┤ X ├──┼──┤ X ├──┼───░─\n",
       "      ░ └───┘┌─┴─┐└───┘┌─┴─┐ ░ \n",
       "q_3: ─░──────┤ X ├─────┤ X ├─░─\n",
       "      ░      └───┘     └───┘ ░ </pre>"
      ],
      "text/plain": [
       "      ░                      ░ \n",
       "q_0: ─░───■────■─────────────░─\n",
       "      ░   │    │             ░ \n",
       "q_1: ─░───┼────┼────■────■───░─\n",
       "      ░ ┌─┴─┐  │  ┌─┴─┐  │   ░ \n",
       "q_2: ─░─┤ X ├──┼──┤ X ├──┼───░─\n",
       "      ░ └───┘┌─┴─┐└───┘┌─┴─┐ ░ \n",
       "q_3: ─░──────┤ X ├─────┤ X ├─░─\n",
       "      ░      └───┘     └───┘ ░ "
      ]
     },
     "execution_count": 2,
     "metadata": {},
     "output_type": "execute_result"
    }
   ],
   "source": [
    "# Comment out these lines\n",
    "import sys\n",
    "sys.path.insert(0, 'C:\\\\Users\\\\masch\\\\Quantum Computing\\\\QComp\\\\pgmpy')\n",
    "\n",
    "# Imports (some imports may not be necessary)\n",
    "import numpy as np\n",
    "from qiskit import IBMQ, Aer\n",
    "from qiskit.providers.ibmq import least_busy\n",
    "from qiskit import QuantumCircuit, assemble, transpile\n",
    "from qiskit.visualization import plot_histogram\n",
    "import qiskit.quantum_info as qi\n",
    "\n",
    "# set the length of the n-bit input string. \n",
    "\n",
    "n = 2\n",
    "m = 2\n",
    "\n",
    "# Construct the oracle\n",
    "oracle = QuantumCircuit(n+m)\n",
    "oracle.barrier()\n",
    "oracle.cx(0,2)\n",
    "oracle.cx(0,3)\n",
    "oracle.cx(1,2)\n",
    "oracle.cx(1,3)\n",
    "oracle.barrier()\n",
    "oracle.draw()"
   ]
  },
  {
   "cell_type": "code",
   "execution_count": 3,
   "id": "e61d885a",
   "metadata": {},
   "outputs": [
    {
     "name": "stderr",
     "output_type": "stream",
     "text": [
      "<ipython-input-3-096da3361977>:6: DeprecationWarning: The QuantumCircuit.__iadd__() method is being deprecated. Use the compose() (potentially with the inplace=True argument) and tensor() methods which are more flexible w.r.t circuit register compatibility.\n",
      "  simonAlg += oracle\n",
      "C:\\Users\\masch\\anaconda3\\lib\\site-packages\\qiskit\\circuit\\quantumcircuit.py:942: DeprecationWarning: The QuantumCircuit.extend() method is being deprecated. Use the compose() (potentially with the inplace=True argument) and tensor() methods which are more flexible w.r.t circuit register compatibility.\n",
      "  return self.extend(rhs)\n"
     ]
    },
    {
     "data": {
      "text/html": [
       "<pre style=\"word-wrap: normal;white-space: pre;background: #fff0;line-height: 1.1;font-family: &quot;Courier New&quot;,Courier,monospace\">      ░ ┌───┐ ░                      ░ \n",
       "q_0: ─░─┤ H ├─░───■────■─────────────░─\n",
       "      ░ ├───┤ ░   │    │             ░ \n",
       "q_1: ─░─┤ H ├─░───┼────┼────■────■───░─\n",
       "      ░ └───┘ ░ ┌─┴─┐  │  ┌─┴─┐  │   ░ \n",
       "q_2: ─░───────░─┤ X ├──┼──┤ X ├──┼───░─\n",
       "      ░       ░ └───┘┌─┴─┐└───┘┌─┴─┐ ░ \n",
       "q_3: ─░───────░──────┤ X ├─────┤ X ├─░─\n",
       "      ░       ░      └───┘     └───┘ ░ \n",
       "c: 4/══════════════════════════════════\n",
       "                                       </pre>"
      ],
      "text/plain": [
       "      ░ ┌───┐ ░                      ░ \n",
       "q_0: ─░─┤ H ├─░───■────■─────────────░─\n",
       "      ░ ├───┤ ░   │    │             ░ \n",
       "q_1: ─░─┤ H ├─░───┼────┼────■────■───░─\n",
       "      ░ └───┘ ░ ┌─┴─┐  │  ┌─┴─┐  │   ░ \n",
       "q_2: ─░───────░─┤ X ├──┼──┤ X ├──┼───░─\n",
       "      ░       ░ └───┘┌─┴─┐└───┘┌─┴─┐ ░ \n",
       "q_3: ─░───────░──────┤ X ├─────┤ X ├─░─\n",
       "      ░       ░      └───┘     └───┘ ░ \n",
       "c: 4/══════════════════════════════════\n",
       "                                       "
      ]
     },
     "execution_count": 3,
     "metadata": {},
     "output_type": "execute_result"
    }
   ],
   "source": [
    "# The next 3 cells show the construction of the entire circuit\n",
    "simonAlg = QuantumCircuit(n+m,n+m)\n",
    "simonAlg.barrier()\n",
    "for qubit in range(n):\n",
    "    simonAlg.h(qubit)\n",
    "simonAlg += oracle\n",
    "simonAlg.draw()"
   ]
  },
  {
   "cell_type": "code",
   "execution_count": 4,
   "id": "3cc33ee6",
   "metadata": {},
   "outputs": [
    {
     "data": {
      "text/html": [
       "<pre style=\"word-wrap: normal;white-space: pre;background: #fff0;line-height: 1.1;font-family: &quot;Courier New&quot;,Courier,monospace\">      ░ ┌───┐ ░                      ░ ┌───┐ ░ \n",
       "q_0: ─░─┤ H ├─░───■────■─────────────░─┤ H ├─░─\n",
       "      ░ ├───┤ ░   │    │             ░ ├───┤ ░ \n",
       "q_1: ─░─┤ H ├─░───┼────┼────■────■───░─┤ H ├─░─\n",
       "      ░ └───┘ ░ ┌─┴─┐  │  ┌─┴─┐  │   ░ └───┘ ░ \n",
       "q_2: ─░───────░─┤ X ├──┼──┤ X ├──┼───░───────░─\n",
       "      ░       ░ └───┘┌─┴─┐└───┘┌─┴─┐ ░       ░ \n",
       "q_3: ─░───────░──────┤ X ├─────┤ X ├─░───────░─\n",
       "      ░       ░      └───┘     └───┘ ░       ░ \n",
       "c: 4/══════════════════════════════════════════\n",
       "                                               </pre>"
      ],
      "text/plain": [
       "      ░ ┌───┐ ░                      ░ ┌───┐ ░ \n",
       "q_0: ─░─┤ H ├─░───■────■─────────────░─┤ H ├─░─\n",
       "      ░ ├───┤ ░   │    │             ░ ├───┤ ░ \n",
       "q_1: ─░─┤ H ├─░───┼────┼────■────■───░─┤ H ├─░─\n",
       "      ░ └───┘ ░ ┌─┴─┐  │  ┌─┴─┐  │   ░ └───┘ ░ \n",
       "q_2: ─░───────░─┤ X ├──┼──┤ X ├──┼───░───────░─\n",
       "      ░       ░ └───┘┌─┴─┐└───┘┌─┴─┐ ░       ░ \n",
       "q_3: ─░───────░──────┤ X ├─────┤ X ├─░───────░─\n",
       "      ░       ░      └───┘     └───┘ ░       ░ \n",
       "c: 4/══════════════════════════════════════════\n",
       "                                               "
      ]
     },
     "execution_count": 4,
     "metadata": {},
     "output_type": "execute_result"
    }
   ],
   "source": [
    "for qubit in range(n):\n",
    "    simonAlg.h(qubit)\n",
    "simonAlg.barrier()\n",
    "simonAlg.draw()"
   ]
  },
  {
   "cell_type": "code",
   "execution_count": 5,
   "id": "466c32a5",
   "metadata": {},
   "outputs": [
    {
     "name": "stdout",
     "output_type": "stream",
     "text": [
      "[ 5.00000000e-01+0.j  3.11164266e-19+0.j  3.11164266e-19+0.j\n",
      "  5.00000000e-01+0.j  0.00000000e+00+0.j  0.00000000e+00+0.j\n",
      "  0.00000000e+00+0.j  0.00000000e+00+0.j  0.00000000e+00+0.j\n",
      "  0.00000000e+00+0.j  0.00000000e+00+0.j  0.00000000e+00+0.j\n",
      "  5.00000000e-01+0.j -3.11164266e-19+0.j  3.11164266e-19+0.j\n",
      " -5.00000000e-01+0.j]\n"
     ]
    }
   ],
   "source": [
    "# Here, we obtain the state vector for the system after the cx gate\n",
    "simon = qi.Statevector.from_instruction(simonAlg)\n",
    "simonVec = simon.__array__()\n",
    "\n",
    "# The format of the state vector is [|0000>, |1000>, |0100>, |1100>, ...]\n",
    "print(simonVec)"
   ]
  },
  {
   "cell_type": "code",
   "execution_count": 6,
   "id": "0e394796",
   "metadata": {},
   "outputs": [
    {
     "data": {
      "application/vnd.jupyter.widget-view+json": {
       "model_id": "655b76c05c684a3c9012041a26a19074",
       "version_major": 2,
       "version_minor": 0
      },
      "text/plain": [
       "  0%|          | 0/10 [00:00<?, ?it/s]"
      ]
     },
     "metadata": {},
     "output_type": "display_data"
    },
    {
     "data": {
      "application/vnd.jupyter.widget-view+json": {
       "model_id": "f49dbb1963a74044aef84a02420392b1",
       "version_major": 2,
       "version_minor": 0
      },
      "text/plain": [
       "  0%|          | 0/10 [00:00<?, ?it/s]"
      ]
     },
     "metadata": {},
     "output_type": "display_data"
    },
    {
     "name": "stdout",
     "output_type": "stream",
     "text": [
      "+---------+---------+---------+---------+----------------------------+\n",
      "| q1m3    | q0m3    | q2m2    | q3m2    |   phi(q1m3,q0m3,q2m2,q3m2) |\n",
      "+=========+=========+=========+=========+============================+\n",
      "| q1m3(0) | q0m3(0) | q2m2(0) | q3m2(0) |             0.5000+0.0000j |\n",
      "+---------+---------+---------+---------+----------------------------+\n",
      "| q1m3(0) | q0m3(0) | q2m2(0) | q3m2(1) |             0.0000+0.0000j |\n",
      "+---------+---------+---------+---------+----------------------------+\n",
      "| q1m3(0) | q0m3(0) | q2m2(1) | q3m2(0) |             0.0000+0.0000j |\n",
      "+---------+---------+---------+---------+----------------------------+\n",
      "| q1m3(0) | q0m3(0) | q2m2(1) | q3m2(1) |             0.5000+0.0000j |\n",
      "+---------+---------+---------+---------+----------------------------+\n",
      "| q1m3(0) | q0m3(1) | q2m2(0) | q3m2(0) |             0.0000+0.0000j |\n",
      "+---------+---------+---------+---------+----------------------------+\n",
      "| q1m3(0) | q0m3(1) | q2m2(0) | q3m2(1) |             0.0000+0.0000j |\n",
      "+---------+---------+---------+---------+----------------------------+\n",
      "| q1m3(0) | q0m3(1) | q2m2(1) | q3m2(0) |             0.0000+0.0000j |\n",
      "+---------+---------+---------+---------+----------------------------+\n",
      "| q1m3(0) | q0m3(1) | q2m2(1) | q3m2(1) |             0.0000+0.0000j |\n",
      "+---------+---------+---------+---------+----------------------------+\n",
      "| q1m3(1) | q0m3(0) | q2m2(0) | q3m2(0) |             0.0000+0.0000j |\n",
      "+---------+---------+---------+---------+----------------------------+\n",
      "| q1m3(1) | q0m3(0) | q2m2(0) | q3m2(1) |             0.0000+0.0000j |\n",
      "+---------+---------+---------+---------+----------------------------+\n",
      "| q1m3(1) | q0m3(0) | q2m2(1) | q3m2(0) |             0.0000+0.0000j |\n",
      "+---------+---------+---------+---------+----------------------------+\n",
      "| q1m3(1) | q0m3(0) | q2m2(1) | q3m2(1) |             0.0000+0.0000j |\n",
      "+---------+---------+---------+---------+----------------------------+\n",
      "| q1m3(1) | q0m3(1) | q2m2(0) | q3m2(0) |             0.5000+0.0000j |\n",
      "+---------+---------+---------+---------+----------------------------+\n",
      "| q1m3(1) | q0m3(1) | q2m2(0) | q3m2(1) |             0.0000+0.0000j |\n",
      "+---------+---------+---------+---------+----------------------------+\n",
      "| q1m3(1) | q0m3(1) | q2m2(1) | q3m2(0) |             0.0000+0.0000j |\n",
      "+---------+---------+---------+---------+----------------------------+\n",
      "| q1m3(1) | q0m3(1) | q2m2(1) | q3m2(1) |            -0.5000+0.0000j |\n",
      "+---------+---------+---------+---------+----------------------------+\n"
     ]
    },
    {
     "name": "stderr",
     "output_type": "stream",
     "text": [
      "C:\\Users\\masch\\Quantum Computing\\QComp\\pgmpy\\pgmpy\\extern\\tabulate.py:282: ComplexWarning: Casting complex values to real discards the imaginary part\n",
      "  n = conv(string)\n"
     ]
    }
   ],
   "source": [
    "# Imports\n",
    "from pgmpy.models import BayesianNetwork\n",
    "from pgmpy.factors.discrete.CPD import TabularCPD\n",
    "import numpy as np\n",
    "from pgmpy.inference import VariableElimination\n",
    "\n",
    "# Bayesian Network for Simon's Algorithm\n",
    "simon = BayesianNetwork([('q0m0', 'q0m1'), ('q0m1', 'q0m2'), ('q1m0', 'q1m1'), ('q1m1', 'q1m2'), ('q2m0', 'q2m1'), ('q2m1', 'q2m2'), ('q3m0', 'q3m1'), ('q3m1', 'q3m2'), ('q0m1', 'q2m2'), ('q0m1', 'q3m2'), ('q1m1', 'q2m2'), ('q1m1', 'q3m2'), ('q0m2', 'q0m3'), ('q1m2', 'q1m3')])\n",
    "\n",
    "# Conditional Amplitude Tables\n",
    "cpd_q0m0 = TabularCPD(variable = 'q0m0', variable_card = 2, values = [[1], [0]])\n",
    "cpd_q1m0 = TabularCPD(variable = 'q1m0', variable_card = 2, values = [[1], [0]])\n",
    "cpd_q2m0 = TabularCPD(variable = 'q2m0', variable_card = 2, values = [[1], [0]])\n",
    "cpd_q3m0 = TabularCPD(variable = 'q3m0', variable_card = 2, values = [[1], [0]])\n",
    "cpd_q0m1 = TabularCPD(variable='q0m1', variable_card = 2, values = [[1/np.sqrt(2), 1/np.sqrt(2)], [1/np.sqrt(2), -1/np.sqrt(2)]], evidence = ['q0m0'], evidence_card = [2])\n",
    "cpd_q1m1 = TabularCPD(variable='q1m1', variable_card = 2, values = [[1/np.sqrt(2), 1/np.sqrt(2)], [1/np.sqrt(2), -1/np.sqrt(2)]], evidence = ['q1m0'], evidence_card = [2])\n",
    "cpd_q2m1 = TabularCPD(variable='q2m1', variable_card = 2, values = [[1, 0], [0, 1]], evidence = ['q2m0'], evidence_card = [2])\n",
    "cpd_q3m1 = TabularCPD(variable='q3m1', variable_card = 2, values = [[1, 0], [0, 1]], evidence = ['q3m0'], evidence_card = [2])\n",
    "cpd_q0m2 = TabularCPD(variable='q0m2', variable_card = 2, values = [[1, 0], [0, 1]], evidence = ['q0m1'], evidence_card = [2])\n",
    "cpd_q1m2 = TabularCPD(variable='q1m2', variable_card = 2, values = [[1, 0], [0, 1]], evidence = ['q1m1'], evidence_card = [2])\n",
    "cpd_q2m2 = TabularCPD(variable='q2m2', variable_card = 2, values = [[1,0,0,1,0,1,1,0],[0,1,1,0,1,0,0,1]], evidence = ['q0m1', 'q1m1', 'q2m1'], evidence_card = [2,2,2])\n",
    "cpd_q3m2 = TabularCPD(variable='q3m2', variable_card = 2, values = [[1,0,0,1,0,1,1,0],[0,1,1,0,1,0,0,1]], evidence = ['q0m1', 'q1m1', 'q3m1'], evidence_card = [2,2,2])\n",
    "cpd_q0m3 = TabularCPD(variable='q0m3', variable_card = 2, values = [[1/np.sqrt(2), 1/np.sqrt(2)], [1/np.sqrt(2), -1/np.sqrt(2)]], evidence = ['q0m2'], evidence_card = [2])\n",
    "cpd_q1m3 = TabularCPD(variable='q1m3', variable_card = 2, values = [[1/np.sqrt(2), 1/np.sqrt(2)], [1/np.sqrt(2), -1/np.sqrt(2)]], evidence = ['q1m2'], evidence_card = [2])\n",
    "\n",
    "# Add CADs to Bayesian Network \n",
    "simon.add_cpds(cpd_q0m0, cpd_q1m0, cpd_q2m0, cpd_q3m0, cpd_q0m1, cpd_q1m1, cpd_q2m1, cpd_q3m1, cpd_q0m2, cpd_q1m2, cpd_q2m2, cpd_q3m2, cpd_q0m3, cpd_q1m3)\n",
    "simonInfer = VariableElimination(simon)\n",
    "\n",
    "# Print Results of Variable Elimination (pay attention to the ordering of variables) \n",
    "q = simonInfer.query(['q0m3', 'q1m3', 'q2m2', 'q3m2'])\n",
    "print(q)"
   ]
  },
  {
   "cell_type": "code",
   "execution_count": 7,
   "id": "51a3fcc7",
   "metadata": {},
   "outputs": [
    {
     "name": "stdout",
     "output_type": "stream",
     "text": [
      "['q1m3', 'q0m3', 'q2m2', 'q3m2']\n",
      "[[[[ 0.5+0.j  0. +0.j]\n",
      "   [ 0. +0.j  0.5+0.j]]\n",
      "\n",
      "  [[ 0. +0.j  0. +0.j]\n",
      "   [ 0. +0.j  0. +0.j]]]\n",
      "\n",
      "\n",
      " [[[ 0. +0.j  0. +0.j]\n",
      "   [ 0. +0.j  0. +0.j]]\n",
      "\n",
      "  [[ 0.5+0.j  0. +0.j]\n",
      "   [ 0. +0.j -0.5+0.j]]]]\n"
     ]
    }
   ],
   "source": [
    "# Obtain the ordering of the variables in the display above, as well as their values\n",
    "qVars = q.variables\n",
    "qValues = q.values\n",
    "\n",
    "print(qVars)\n",
    "print(qValues)"
   ]
  },
  {
   "cell_type": "code",
   "execution_count": 9,
   "id": "e27611cf",
   "metadata": {},
   "outputs": [
    {
     "name": "stdout",
     "output_type": "stream",
     "text": [
      "simon's algorithm\n",
      "{'0000': (0.5+0j), '1000': 0j, '0100': 0j, '1100': (0.5+0j), '0010': 0j, '1010': 0j, '0110': 0j, '1110': 0j, '0001': 0j, '1001': 0j, '0101': 0j, '1101': 0j, '0011': (0.5+0j), '1011': (-0+0j), '0111': 0j, '1111': (-0.5+0j)}\n"
     ]
    },
    {
     "name": "stderr",
     "output_type": "stream",
     "text": [
      "<ipython-input-9-4a9b33c58dc7>:13: DeprecationWarning: The Python built-in `round` is deprecated for complex scalars, and will raise a `TypeError` in a future release. Use `np.round` or `scalar.round` instead.\n",
      "  QbitDict[qbits[i]]=round(stateVec[i],4)\n"
     ]
    }
   ],
   "source": [
    "def bitListBack(n):\n",
    "    N = 2**n\n",
    "    numList = []\n",
    "    numFormat = \"0\" + str(n) + \"b\"\n",
    "    for i in range(N):\n",
    "        numList.append((str(format(i,numFormat))[::-1]))\n",
    "    return numList\n",
    "\n",
    "def QiskitDict(stateVec,n):\n",
    "    qbits = bitListBack(n)\n",
    "    QbitDict = {}\n",
    "    for i in range(2**n):\n",
    "        QbitDict[qbits[i]]=np.round(stateVec[i],4)\n",
    "    return QbitDict\n",
    "\n",
    "print(\"simon's algorithm\")\n",
    "print(QiskitDict(simonVec,4))"
   ]
  },
  {
   "cell_type": "code",
   "execution_count": 10,
   "id": "c2f6b77c",
   "metadata": {},
   "outputs": [
    {
     "name": "stdout",
     "output_type": "stream",
     "text": [
      "True\n",
      "{'0000': (0.5+0j), '0001': 0j, '0010': 0j, '0011': (0.5+0j), '1000': 0j, '1001': 0j, '1010': 0j, '1011': 0j, '0100': 0j, '0101': 0j, '0110': 0j, '0111': 0j, '1100': (0.5+0j), '1101': 0j, '1110': 0j, '1111': (-0.5+0j)}\n",
      "{'0000': (0.5+0j), '0001': 0j, '0010': 0j, '0011': (0.5+0j), '0100': 0j, '0101': 0j, '0110': 0j, '0111': 0j, '1000': 0j, '1001': 0j, '1010': 0j, '1011': 0j, '1100': (0.5+0j), '1101': (-0+0j), '1110': 0j, '1111': (-0.5+0j)}\n"
     ]
    },
    {
     "name": "stderr",
     "output_type": "stream",
     "text": [
      "<ipython-input-9-4a9b33c58dc7>:13: DeprecationWarning: The Python built-in `round` is deprecated for complex scalars, and will raise a `TypeError` in a future release. Use `np.round` or `scalar.round` instead.\n",
      "  QbitDict[qbits[i]]=round(stateVec[i],4)\n"
     ]
    }
   ],
   "source": [
    "# Obtain the ordering of the variables in the display above, as well as their values\n",
    "valArr = q.variables\n",
    "valuesArr = q.values\n",
    "\n",
    "def create_var_order(orderArr):\n",
    "    currNum = 0\n",
    "    numArr = []\n",
    "    for order in orderArr:\n",
    "        if len(order) == 4:\n",
    "            currNum = order[1]\n",
    "        numArr.append(currNum)\n",
    "    return numArr\n",
    "\n",
    "def bitList(n):\n",
    "    N = 2**n\n",
    "    numList = []\n",
    "    numFormat = \"0\" + str(n) + \"b\"\n",
    "    for i in range(N):\n",
    "        numList.append((str(format(i,numFormat))))\n",
    "    return numList\n",
    "\n",
    "\n",
    "def columnize(listOfBits):\n",
    "    n = len(listOfBits[0])\n",
    "    holder = []\n",
    "    for i in range(n):\n",
    "        col = []\n",
    "        for bit in listOfBits:\n",
    "            col.append(bit[i])\n",
    "        holder.append(col)\n",
    "    return holder\n",
    "\n",
    "def reform():\n",
    "    varOrderArr = create_var_order(valArr)\n",
    "    listOfBits = bitList(len(varOrderArr))\n",
    "    columns = columnize(listOfBits)\n",
    "    rearrangedColumns = [None]*len(columns)\n",
    "    for index, order in enumerate(varOrderArr):\n",
    "        rearrangedColumns[index] = columns[int(order)]\n",
    "    numOfCols = len(rearrangedColumns)\n",
    "    bitStr = \"\"\n",
    "    finalBitArr = []\n",
    "    for bitIndex in range(len(rearrangedColumns[0])):\n",
    "        for num in range(numOfCols):\n",
    "            bitStr+=str(rearrangedColumns[num][bitIndex])\n",
    "        finalBitArr.append(bitStr)\n",
    "        bitStr = \"\"\n",
    "    return finalBitArr\n",
    "\n",
    "def createHashTable():\n",
    "    resHash = {}\n",
    "    bitOrder=reform()\n",
    "    valuesFlat = valuesArr.flatten()\n",
    "    for index, key in enumerate(bitOrder):\n",
    "        resHash[key] = np.round(valuesFlat[index], 4)\n",
    "    return resHash\n",
    "\n",
    "PgmpyHash = createHashTable()\n",
    "\n",
    "print(PgmpyHash == QiskitDict(simonVec,4))\n",
    "print(PgmpyHash)\n",
    "print(QiskitDict(simonVec,4))"
   ]
  },
  {
   "cell_type": "code",
   "execution_count": null,
   "id": "1d92eaad",
   "metadata": {},
   "outputs": [],
   "source": []
  }
 ],
 "metadata": {
  "kernelspec": {
   "display_name": "Python 3",
   "language": "python",
   "name": "python3"
  },
  "language_info": {
   "codemirror_mode": {
    "name": "ipython",
    "version": 3
   },
   "file_extension": ".py",
   "mimetype": "text/x-python",
   "name": "python",
   "nbconvert_exporter": "python",
   "pygments_lexer": "ipython3",
   "version": "3.8.8"
  }
 },
 "nbformat": 4,
 "nbformat_minor": 5
}
